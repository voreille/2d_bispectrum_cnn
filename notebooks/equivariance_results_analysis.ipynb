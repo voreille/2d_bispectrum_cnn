{
 "cells": [
  {
   "cell_type": "code",
   "execution_count": 1,
   "metadata": {},
   "outputs": [],
   "source": [
    "import pandas as pd"
   ]
  },
  {
   "cell_type": "code",
   "execution_count": 2,
   "metadata": {},
   "outputs": [],
   "source": [
    "df_bisp = pd.read_csv(\"../results/equivariance/BispectUnet__rotation_True__nh_8__n_train_-1__psize_60x60__20211202-173734.csv\")\n",
    "df_bisp = df_bisp.drop(\"Unnamed: 0\", axis=1)"
   ]
  },
  {
   "cell_type": "code",
   "execution_count": 3,
   "metadata": {},
   "outputs": [
    {
     "data": {
      "text/html": [
       "<div>\n",
       "<style scoped>\n",
       "    .dataframe tbody tr th:only-of-type {\n",
       "        vertical-align: middle;\n",
       "    }\n",
       "\n",
       "    .dataframe tbody tr th {\n",
       "        vertical-align: top;\n",
       "    }\n",
       "\n",
       "    .dataframe thead th {\n",
       "        text-align: right;\n",
       "    }\n",
       "</style>\n",
       "<table border=\"1\" class=\"dataframe\">\n",
       "  <thead>\n",
       "    <tr style=\"text-align: right;\">\n",
       "      <th></th>\n",
       "      <th>RMSE_background</th>\n",
       "      <th>RMSE_border</th>\n",
       "      <th>RMSE_core</th>\n",
       "      <th>dice</th>\n",
       "      <th>split</th>\n",
       "    </tr>\n",
       "    <tr>\n",
       "      <th>set</th>\n",
       "      <th></th>\n",
       "      <th></th>\n",
       "      <th></th>\n",
       "      <th></th>\n",
       "      <th></th>\n",
       "    </tr>\n",
       "  </thead>\n",
       "  <tbody>\n",
       "    <tr>\n",
       "      <th>test</th>\n",
       "      <td>2.530186e-07</td>\n",
       "      <td>2.500372e-07</td>\n",
       "      <td>2.265509e-07</td>\n",
       "      <td>0.987591</td>\n",
       "      <td>4.5</td>\n",
       "    </tr>\n",
       "    <tr>\n",
       "      <th>train</th>\n",
       "      <td>2.295766e-07</td>\n",
       "      <td>2.323069e-07</td>\n",
       "      <td>1.997075e-07</td>\n",
       "      <td>0.987227</td>\n",
       "      <td>4.5</td>\n",
       "    </tr>\n",
       "    <tr>\n",
       "      <th>val</th>\n",
       "      <td>2.374715e-07</td>\n",
       "      <td>2.342776e-07</td>\n",
       "      <td>2.136587e-07</td>\n",
       "      <td>0.987457</td>\n",
       "      <td>4.5</td>\n",
       "    </tr>\n",
       "  </tbody>\n",
       "</table>\n",
       "</div>"
      ],
      "text/plain": [
       "       RMSE_background   RMSE_border     RMSE_core      dice  split\n",
       "set                                                                \n",
       "test      2.530186e-07  2.500372e-07  2.265509e-07  0.987591    4.5\n",
       "train     2.295766e-07  2.323069e-07  1.997075e-07  0.987227    4.5\n",
       "val       2.374715e-07  2.342776e-07  2.136587e-07  0.987457    4.5"
      ]
     },
     "execution_count": 3,
     "metadata": {},
     "output_type": "execute_result"
    }
   ],
   "source": [
    "df_bisp.groupby(\"set\").mean()"
   ]
  },
  {
   "cell_type": "code",
   "execution_count": 4,
   "metadata": {},
   "outputs": [
    {
     "data": {
      "text/html": [
       "<div>\n",
       "<style scoped>\n",
       "    .dataframe tbody tr th:only-of-type {\n",
       "        vertical-align: middle;\n",
       "    }\n",
       "\n",
       "    .dataframe tbody tr th {\n",
       "        vertical-align: top;\n",
       "    }\n",
       "\n",
       "    .dataframe thead th {\n",
       "        text-align: right;\n",
       "    }\n",
       "</style>\n",
       "<table border=\"1\" class=\"dataframe\">\n",
       "  <thead>\n",
       "    <tr style=\"text-align: right;\">\n",
       "      <th></th>\n",
       "      <th>RMSE_background</th>\n",
       "      <th>RMSE_border</th>\n",
       "      <th>RMSE_core</th>\n",
       "      <th>dice</th>\n",
       "      <th>split</th>\n",
       "    </tr>\n",
       "    <tr>\n",
       "      <th>set</th>\n",
       "      <th></th>\n",
       "      <th></th>\n",
       "      <th></th>\n",
       "      <th></th>\n",
       "      <th></th>\n",
       "    </tr>\n",
       "  </thead>\n",
       "  <tbody>\n",
       "    <tr>\n",
       "      <th>test</th>\n",
       "      <td>8.723824e-08</td>\n",
       "      <td>7.858645e-08</td>\n",
       "      <td>7.730205e-08</td>\n",
       "      <td>0.004396</td>\n",
       "      <td>2.875278</td>\n",
       "    </tr>\n",
       "    <tr>\n",
       "      <th>train</th>\n",
       "      <td>7.191158e-08</td>\n",
       "      <td>6.889880e-08</td>\n",
       "      <td>5.792036e-08</td>\n",
       "      <td>0.004684</td>\n",
       "      <td>2.874278</td>\n",
       "    </tr>\n",
       "    <tr>\n",
       "      <th>val</th>\n",
       "      <td>8.734637e-08</td>\n",
       "      <td>7.978162e-08</td>\n",
       "      <td>8.213415e-08</td>\n",
       "      <td>0.004503</td>\n",
       "      <td>2.878284</td>\n",
       "    </tr>\n",
       "  </tbody>\n",
       "</table>\n",
       "</div>"
      ],
      "text/plain": [
       "       RMSE_background   RMSE_border     RMSE_core      dice     split\n",
       "set                                                                   \n",
       "test      8.723824e-08  7.858645e-08  7.730205e-08  0.004396  2.875278\n",
       "train     7.191158e-08  6.889880e-08  5.792036e-08  0.004684  2.874278\n",
       "val       8.734637e-08  7.978162e-08  8.213415e-08  0.004503  2.878284"
      ]
     },
     "execution_count": 4,
     "metadata": {},
     "output_type": "execute_result"
    }
   ],
   "source": [
    "df_bisp.groupby(\"set\").std()"
   ]
  },
  {
   "cell_type": "code",
   "execution_count": 5,
   "metadata": {},
   "outputs": [],
   "source": [
    "df_masked = pd.read_csv(\"../results/equivariance/MaskedUnet__rotation_True__nh_0__n_train_-1__psize_60x60__20211212-222429.csv\")\n",
    "df_masked = df_masked.drop(\"Unnamed: 0\", axis=1)"
   ]
  },
  {
   "cell_type": "code",
   "execution_count": 6,
   "metadata": {},
   "outputs": [
    {
     "data": {
      "text/html": [
       "<div>\n",
       "<style scoped>\n",
       "    .dataframe tbody tr th:only-of-type {\n",
       "        vertical-align: middle;\n",
       "    }\n",
       "\n",
       "    .dataframe tbody tr th {\n",
       "        vertical-align: top;\n",
       "    }\n",
       "\n",
       "    .dataframe thead th {\n",
       "        text-align: right;\n",
       "    }\n",
       "</style>\n",
       "<table border=\"1\" class=\"dataframe\">\n",
       "  <thead>\n",
       "    <tr style=\"text-align: right;\">\n",
       "      <th></th>\n",
       "      <th>RMSE_background</th>\n",
       "      <th>RMSE_border</th>\n",
       "      <th>RMSE_core</th>\n",
       "      <th>dice</th>\n",
       "      <th>split</th>\n",
       "    </tr>\n",
       "    <tr>\n",
       "      <th>set</th>\n",
       "      <th></th>\n",
       "      <th></th>\n",
       "      <th></th>\n",
       "      <th></th>\n",
       "      <th></th>\n",
       "    </tr>\n",
       "  </thead>\n",
       "  <tbody>\n",
       "    <tr>\n",
       "      <th>test</th>\n",
       "      <td>0.091471</td>\n",
       "      <td>0.084874</td>\n",
       "      <td>0.076614</td>\n",
       "      <td>0.915272</td>\n",
       "      <td>4.5</td>\n",
       "    </tr>\n",
       "    <tr>\n",
       "      <th>train</th>\n",
       "      <td>0.085352</td>\n",
       "      <td>0.080125</td>\n",
       "      <td>0.071257</td>\n",
       "      <td>0.921299</td>\n",
       "      <td>4.5</td>\n",
       "    </tr>\n",
       "    <tr>\n",
       "      <th>val</th>\n",
       "      <td>0.088669</td>\n",
       "      <td>0.081398</td>\n",
       "      <td>0.073508</td>\n",
       "      <td>0.917203</td>\n",
       "      <td>4.5</td>\n",
       "    </tr>\n",
       "  </tbody>\n",
       "</table>\n",
       "</div>"
      ],
      "text/plain": [
       "       RMSE_background  RMSE_border  RMSE_core      dice  split\n",
       "set                                                            \n",
       "test          0.091471     0.084874   0.076614  0.915272    4.5\n",
       "train         0.085352     0.080125   0.071257  0.921299    4.5\n",
       "val           0.088669     0.081398   0.073508  0.917203    4.5"
      ]
     },
     "execution_count": 6,
     "metadata": {},
     "output_type": "execute_result"
    }
   ],
   "source": [
    "df_masked.groupby(\"set\").mean()"
   ]
  },
  {
   "cell_type": "code",
   "execution_count": 7,
   "metadata": {},
   "outputs": [
    {
     "data": {
      "text/html": [
       "<div>\n",
       "<style scoped>\n",
       "    .dataframe tbody tr th:only-of-type {\n",
       "        vertical-align: middle;\n",
       "    }\n",
       "\n",
       "    .dataframe tbody tr th {\n",
       "        vertical-align: top;\n",
       "    }\n",
       "\n",
       "    .dataframe thead th {\n",
       "        text-align: right;\n",
       "    }\n",
       "</style>\n",
       "<table border=\"1\" class=\"dataframe\">\n",
       "  <thead>\n",
       "    <tr style=\"text-align: right;\">\n",
       "      <th></th>\n",
       "      <th>RMSE_background</th>\n",
       "      <th>RMSE_border</th>\n",
       "      <th>RMSE_core</th>\n",
       "      <th>dice</th>\n",
       "      <th>split</th>\n",
       "    </tr>\n",
       "    <tr>\n",
       "      <th>set</th>\n",
       "      <th></th>\n",
       "      <th></th>\n",
       "      <th></th>\n",
       "      <th></th>\n",
       "      <th></th>\n",
       "    </tr>\n",
       "  </thead>\n",
       "  <tbody>\n",
       "    <tr>\n",
       "      <th>test</th>\n",
       "      <td>0.014316</td>\n",
       "      <td>0.013461</td>\n",
       "      <td>0.017217</td>\n",
       "      <td>0.020476</td>\n",
       "      <td>2.875278</td>\n",
       "    </tr>\n",
       "    <tr>\n",
       "      <th>train</th>\n",
       "      <td>0.013964</td>\n",
       "      <td>0.012364</td>\n",
       "      <td>0.017213</td>\n",
       "      <td>0.017969</td>\n",
       "      <td>2.874278</td>\n",
       "    </tr>\n",
       "    <tr>\n",
       "      <th>val</th>\n",
       "      <td>0.015944</td>\n",
       "      <td>0.013007</td>\n",
       "      <td>0.019049</td>\n",
       "      <td>0.021897</td>\n",
       "      <td>2.878284</td>\n",
       "    </tr>\n",
       "  </tbody>\n",
       "</table>\n",
       "</div>"
      ],
      "text/plain": [
       "       RMSE_background  RMSE_border  RMSE_core      dice     split\n",
       "set                                                               \n",
       "test          0.014316     0.013461   0.017217  0.020476  2.875278\n",
       "train         0.013964     0.012364   0.017213  0.017969  2.874278\n",
       "val           0.015944     0.013007   0.019049  0.021897  2.878284"
      ]
     },
     "execution_count": 7,
     "metadata": {},
     "output_type": "execute_result"
    }
   ],
   "source": [
    "df_masked.groupby(\"set\").std()"
   ]
  },
  {
   "cell_type": "code",
   "execution_count": null,
   "metadata": {},
   "outputs": [],
   "source": []
  }
 ],
 "metadata": {
  "interpreter": {
   "hash": "88c0ff2719174138dc7745eb4f73106ff7a64e8611d08c5f9e483d7cac656239"
  },
  "kernelspec": {
   "display_name": "Python 3",
   "language": "python",
   "name": "python3"
  },
  "language_info": {
   "codemirror_mode": {
    "name": "ipython",
    "version": 3
   },
   "file_extension": ".py",
   "mimetype": "text/x-python",
   "name": "python",
   "nbconvert_exporter": "python",
   "pygments_lexer": "ipython3",
   "version": "3.6.9"
  }
 },
 "nbformat": 4,
 "nbformat_minor": 2
}
