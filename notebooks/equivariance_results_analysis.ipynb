{
 "cells": [
  {
   "cell_type": "code",
   "execution_count": 2,
   "metadata": {},
   "outputs": [],
   "source": [
    "import pandas as pd"
   ]
  },
  {
   "cell_type": "code",
   "execution_count": 3,
   "metadata": {},
   "outputs": [],
   "source": [
    "df_bisp = pd.read_csv(\"/home/valentin/python_wkspce/2d_bispectrum_cnn/results/equivariance/n_angles__8/BispectUnet__rotation_True__nh_8__n_train_-1__psize_60x60__20211202-173734.csv\")\n",
    "df_bisp = df_bisp.drop(\"Unnamed: 0\", axis=1)"
   ]
  },
  {
   "cell_type": "code",
   "execution_count": 4,
   "metadata": {},
   "outputs": [
    {
     "data": {
      "text/html": [
       "<div>\n",
       "<style scoped>\n",
       "    .dataframe tbody tr th:only-of-type {\n",
       "        vertical-align: middle;\n",
       "    }\n",
       "\n",
       "    .dataframe tbody tr th {\n",
       "        vertical-align: top;\n",
       "    }\n",
       "\n",
       "    .dataframe thead th {\n",
       "        text-align: right;\n",
       "    }\n",
       "</style>\n",
       "<table border=\"1\" class=\"dataframe\">\n",
       "  <thead>\n",
       "    <tr style=\"text-align: right;\">\n",
       "      <th></th>\n",
       "      <th>RMSE_background</th>\n",
       "      <th>RMSE_border</th>\n",
       "      <th>RMSE_core</th>\n",
       "      <th>dice</th>\n",
       "      <th>split</th>\n",
       "    </tr>\n",
       "    <tr>\n",
       "      <th>set</th>\n",
       "      <th></th>\n",
       "      <th></th>\n",
       "      <th></th>\n",
       "      <th></th>\n",
       "      <th></th>\n",
       "    </tr>\n",
       "  </thead>\n",
       "  <tbody>\n",
       "    <tr>\n",
       "      <th>test</th>\n",
       "      <td>0.026475</td>\n",
       "      <td>0.027155</td>\n",
       "      <td>0.025809</td>\n",
       "      <td>0.973314</td>\n",
       "      <td>4.5</td>\n",
       "    </tr>\n",
       "    <tr>\n",
       "      <th>train</th>\n",
       "      <td>0.023942</td>\n",
       "      <td>0.025440</td>\n",
       "      <td>0.022871</td>\n",
       "      <td>0.976673</td>\n",
       "      <td>4.5</td>\n",
       "    </tr>\n",
       "    <tr>\n",
       "      <th>val</th>\n",
       "      <td>0.024496</td>\n",
       "      <td>0.025309</td>\n",
       "      <td>0.024151</td>\n",
       "      <td>0.975622</td>\n",
       "      <td>4.5</td>\n",
       "    </tr>\n",
       "  </tbody>\n",
       "</table>\n",
       "</div>"
      ],
      "text/plain": [
       "       RMSE_background  RMSE_border  RMSE_core      dice  split\n",
       "set                                                            \n",
       "test          0.026475     0.027155   0.025809  0.973314    4.5\n",
       "train         0.023942     0.025440   0.022871  0.976673    4.5\n",
       "val           0.024496     0.025309   0.024151  0.975622    4.5"
      ]
     },
     "execution_count": 4,
     "metadata": {},
     "output_type": "execute_result"
    }
   ],
   "source": [
    "df_bisp.groupby(\"set\").mean()"
   ]
  },
  {
   "cell_type": "code",
   "execution_count": 5,
   "metadata": {},
   "outputs": [
    {
     "data": {
      "text/html": [
       "<div>\n",
       "<style scoped>\n",
       "    .dataframe tbody tr th:only-of-type {\n",
       "        vertical-align: middle;\n",
       "    }\n",
       "\n",
       "    .dataframe tbody tr th {\n",
       "        vertical-align: top;\n",
       "    }\n",
       "\n",
       "    .dataframe thead th {\n",
       "        text-align: right;\n",
       "    }\n",
       "</style>\n",
       "<table border=\"1\" class=\"dataframe\">\n",
       "  <thead>\n",
       "    <tr style=\"text-align: right;\">\n",
       "      <th></th>\n",
       "      <th>RMSE_background</th>\n",
       "      <th>RMSE_border</th>\n",
       "      <th>RMSE_core</th>\n",
       "      <th>dice</th>\n",
       "      <th>split</th>\n",
       "    </tr>\n",
       "    <tr>\n",
       "      <th>set</th>\n",
       "      <th></th>\n",
       "      <th></th>\n",
       "      <th></th>\n",
       "      <th></th>\n",
       "      <th></th>\n",
       "    </tr>\n",
       "  </thead>\n",
       "  <tbody>\n",
       "    <tr>\n",
       "      <th>test</th>\n",
       "      <td>0.025880</td>\n",
       "      <td>0.025725</td>\n",
       "      <td>0.025626</td>\n",
       "      <td>0.027627</td>\n",
       "      <td>2.872923</td>\n",
       "    </tr>\n",
       "    <tr>\n",
       "      <th>train</th>\n",
       "      <td>0.022439</td>\n",
       "      <td>0.023542</td>\n",
       "      <td>0.021774</td>\n",
       "      <td>0.022069</td>\n",
       "      <td>2.872709</td>\n",
       "    </tr>\n",
       "    <tr>\n",
       "      <th>val</th>\n",
       "      <td>0.023666</td>\n",
       "      <td>0.023547</td>\n",
       "      <td>0.023810</td>\n",
       "      <td>0.024827</td>\n",
       "      <td>2.873564</td>\n",
       "    </tr>\n",
       "  </tbody>\n",
       "</table>\n",
       "</div>"
      ],
      "text/plain": [
       "       RMSE_background  RMSE_border  RMSE_core      dice     split\n",
       "set                                                               \n",
       "test          0.025880     0.025725   0.025626  0.027627  2.872923\n",
       "train         0.022439     0.023542   0.021774  0.022069  2.872709\n",
       "val           0.023666     0.023547   0.023810  0.024827  2.873564"
      ]
     },
     "execution_count": 5,
     "metadata": {},
     "output_type": "execute_result"
    }
   ],
   "source": [
    "df_bisp.groupby(\"set\").std()"
   ]
  },
  {
   "cell_type": "code",
   "execution_count": 6,
   "metadata": {},
   "outputs": [],
   "source": [
    "df_masked = pd.read_csv(\"/home/valentin/python_wkspce/2d_bispectrum_cnn/results/equivariance/n_angles__8/MaskedUnet__rotation_True__nh_0__n_train_-1__psize_60x60__20211212-222429.csv\")\n",
    "df_masked = df_masked.drop(\"Unnamed: 0\", axis=1)"
   ]
  },
  {
   "cell_type": "code",
   "execution_count": 7,
   "metadata": {},
   "outputs": [
    {
     "data": {
      "text/html": [
       "<div>\n",
       "<style scoped>\n",
       "    .dataframe tbody tr th:only-of-type {\n",
       "        vertical-align: middle;\n",
       "    }\n",
       "\n",
       "    .dataframe tbody tr th {\n",
       "        vertical-align: top;\n",
       "    }\n",
       "\n",
       "    .dataframe thead th {\n",
       "        text-align: right;\n",
       "    }\n",
       "</style>\n",
       "<table border=\"1\" class=\"dataframe\">\n",
       "  <thead>\n",
       "    <tr style=\"text-align: right;\">\n",
       "      <th></th>\n",
       "      <th>RMSE_background</th>\n",
       "      <th>RMSE_border</th>\n",
       "      <th>RMSE_core</th>\n",
       "      <th>dice</th>\n",
       "      <th>split</th>\n",
       "    </tr>\n",
       "    <tr>\n",
       "      <th>set</th>\n",
       "      <th></th>\n",
       "      <th></th>\n",
       "      <th></th>\n",
       "      <th></th>\n",
       "      <th></th>\n",
       "    </tr>\n",
       "  </thead>\n",
       "  <tbody>\n",
       "    <tr>\n",
       "      <th>test</th>\n",
       "      <td>0.078653</td>\n",
       "      <td>0.073471</td>\n",
       "      <td>0.066331</td>\n",
       "      <td>0.925367</td>\n",
       "      <td>4.5</td>\n",
       "    </tr>\n",
       "    <tr>\n",
       "      <th>train</th>\n",
       "      <td>0.073541</td>\n",
       "      <td>0.069583</td>\n",
       "      <td>0.062042</td>\n",
       "      <td>0.931346</td>\n",
       "      <td>4.5</td>\n",
       "    </tr>\n",
       "    <tr>\n",
       "      <th>val</th>\n",
       "      <td>0.075795</td>\n",
       "      <td>0.070269</td>\n",
       "      <td>0.063394</td>\n",
       "      <td>0.928106</td>\n",
       "      <td>4.5</td>\n",
       "    </tr>\n",
       "  </tbody>\n",
       "</table>\n",
       "</div>"
      ],
      "text/plain": [
       "       RMSE_background  RMSE_border  RMSE_core      dice  split\n",
       "set                                                            \n",
       "test          0.078653     0.073471   0.066331  0.925367    4.5\n",
       "train         0.073541     0.069583   0.062042  0.931346    4.5\n",
       "val           0.075795     0.070269   0.063394  0.928106    4.5"
      ]
     },
     "execution_count": 7,
     "metadata": {},
     "output_type": "execute_result"
    }
   ],
   "source": [
    "df_masked.groupby(\"set\").mean()"
   ]
  },
  {
   "cell_type": "code",
   "execution_count": 7,
   "metadata": {},
   "outputs": [
    {
     "data": {
      "text/html": [
       "<div>\n",
       "<style scoped>\n",
       "    .dataframe tbody tr th:only-of-type {\n",
       "        vertical-align: middle;\n",
       "    }\n",
       "\n",
       "    .dataframe tbody tr th {\n",
       "        vertical-align: top;\n",
       "    }\n",
       "\n",
       "    .dataframe thead th {\n",
       "        text-align: right;\n",
       "    }\n",
       "</style>\n",
       "<table border=\"1\" class=\"dataframe\">\n",
       "  <thead>\n",
       "    <tr style=\"text-align: right;\">\n",
       "      <th></th>\n",
       "      <th>RMSE_background</th>\n",
       "      <th>RMSE_border</th>\n",
       "      <th>RMSE_core</th>\n",
       "      <th>dice</th>\n",
       "      <th>split</th>\n",
       "    </tr>\n",
       "    <tr>\n",
       "      <th>set</th>\n",
       "      <th></th>\n",
       "      <th></th>\n",
       "      <th></th>\n",
       "      <th></th>\n",
       "      <th></th>\n",
       "    </tr>\n",
       "  </thead>\n",
       "  <tbody>\n",
       "    <tr>\n",
       "      <th>test</th>\n",
       "      <td>0.014316</td>\n",
       "      <td>0.013461</td>\n",
       "      <td>0.017217</td>\n",
       "      <td>0.020476</td>\n",
       "      <td>2.875278</td>\n",
       "    </tr>\n",
       "    <tr>\n",
       "      <th>train</th>\n",
       "      <td>0.013964</td>\n",
       "      <td>0.012364</td>\n",
       "      <td>0.017213</td>\n",
       "      <td>0.017969</td>\n",
       "      <td>2.874278</td>\n",
       "    </tr>\n",
       "    <tr>\n",
       "      <th>val</th>\n",
       "      <td>0.015944</td>\n",
       "      <td>0.013007</td>\n",
       "      <td>0.019049</td>\n",
       "      <td>0.021897</td>\n",
       "      <td>2.878284</td>\n",
       "    </tr>\n",
       "  </tbody>\n",
       "</table>\n",
       "</div>"
      ],
      "text/plain": [
       "       RMSE_background  RMSE_border  RMSE_core      dice     split\n",
       "set                                                               \n",
       "test          0.014316     0.013461   0.017217  0.020476  2.875278\n",
       "train         0.013964     0.012364   0.017213  0.017969  2.874278\n",
       "val           0.015944     0.013007   0.019049  0.021897  2.878284"
      ]
     },
     "execution_count": 7,
     "metadata": {},
     "output_type": "execute_result"
    }
   ],
   "source": [
    "df_masked.groupby(\"set\").std()"
   ]
  },
  {
   "cell_type": "code",
   "execution_count": null,
   "metadata": {},
   "outputs": [],
   "source": []
  }
 ],
 "metadata": {
  "interpreter": {
   "hash": "88c0ff2719174138dc7745eb4f73106ff7a64e8611d08c5f9e483d7cac656239"
  },
  "kernelspec": {
   "display_name": "Python 3",
   "language": "python",
   "name": "python3"
  },
  "language_info": {
   "codemirror_mode": {
    "name": "ipython",
    "version": 3
   },
   "file_extension": ".py",
   "mimetype": "text/x-python",
   "name": "python",
   "nbconvert_exporter": "python",
   "pygments_lexer": "ipython3",
   "version": "3.6.9"
  }
 },
 "nbformat": 4,
 "nbformat_minor": 2
}
