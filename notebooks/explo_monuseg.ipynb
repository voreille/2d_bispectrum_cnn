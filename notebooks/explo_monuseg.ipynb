{
 "cells": [
  {
   "cell_type": "code",
   "execution_count": null,
   "metadata": {},
   "outputs": [],
   "source": [
    "from pathlib import Path\n",
    "\n",
    "import numpy as np\n",
    "import matplotlib.pyplot as plt\n",
    "from skimage.color import rgb2gray\n",
    "import pandas as pd\n",
    "from skimage.segmentation import mark_boundaries, watershed\n",
    "\n",
    "from src.data.monuseg.tf_data import get_dataset, tf_random_crop, get_split, to_sparse\n"
   ]
  },
  {
   "cell_type": "code",
   "execution_count": null,
   "metadata": {},
   "outputs": [],
   "source": [
    "info_df = pd.read_csv(\"/home/valentin/python_wkspce/2d_bispectrum_cnn/data/raw/MoNuSeg2018Training/MoNuSeg2018_info.csv\")"
   ]
  },
  {
   "cell_type": "code",
   "execution_count": null,
   "metadata": {},
   "outputs": [],
   "source": [
    "info_df.columns"
   ]
  },
  {
   "cell_type": "code",
   "execution_count": null,
   "metadata": {},
   "outputs": [],
   "source": [
    "patient_ids = info_df[info_df[\"organ\"].isin([\"Breast\", \"Liver\", \"Kidney\", \"Prostate\"])][\"patient_id\"].values"
   ]
  },
  {
   "cell_type": "code",
   "execution_count": null,
   "metadata": {},
   "outputs": [],
   "source": [
    "ids_train, ids_val, ids_test = get_split()"
   ]
  },
  {
   "cell_type": "code",
   "execution_count": null,
   "metadata": {},
   "outputs": [],
   "source": [
    "ids_train"
   ]
  },
  {
   "cell_type": "code",
   "execution_count": null,
   "metadata": {},
   "outputs": [],
   "source": [
    "# ds = get_dataset(id_list=patient_ids, is_test=False).map(\n",
    "#     lambda x, y: tf_random_crop(x, y, rotation_angle=\"right-angle\", filter_segmentation=False)).map(\n",
    "#         lambda x, y: (x, to_sparse(y))).as_numpy_iterator()\n",
    "# ds = get_dataset(id_list=patient_ids).as_numpy_iterator()\n",
    "ds = get_dataset(id_list=patient_ids, is_test=True).as_numpy_iterator()"
   ]
  },
  {
   "cell_type": "code",
   "execution_count": null,
   "metadata": {},
   "outputs": [],
   "source": [
    "image, mask = next(ds)"
   ]
  },
  {
   "cell_type": "code",
   "execution_count": null,
   "metadata": {},
   "outputs": [],
   "source": [
    "mask.shape"
   ]
  },
  {
   "cell_type": "code",
   "execution_count": null,
   "metadata": {},
   "outputs": [],
   "source": [
    "np.max(mask)"
   ]
  },
  {
   "cell_type": "code",
   "execution_count": null,
   "metadata": {},
   "outputs": [],
   "source": [
    "plt.figure(figsize=(9,9))\n",
    "plt.imshow(mask)\n",
    "# plt.colorbar()"
   ]
  },
  {
   "cell_type": "code",
   "execution_count": null,
   "metadata": {},
   "outputs": [],
   "source": [
    "image_annotated = mark_boundaries(\n",
    "    image,\n",
    "    mask[:, :, 0].astype(bool),\n",
    "    color=(0, 1, 0),\n",
    "    mode=\"inner\"\n",
    ")\n",
    "plt.figure(figsize=(9, 9))\n",
    "plt.imshow(image_annotated)"
   ]
  },
  {
   "cell_type": "code",
   "execution_count": null,
   "metadata": {},
   "outputs": [],
   "source": [
    "ds = get_dataset(id_list=patient_ids).as_numpy_iterator()\n",
    "n_background = 0\n",
    "n_foreground = 0\n",
    "n_border = 0\n",
    "for image, seg in ds:\n",
    "    n_border += np.sum(seg[:, :, 1])\n",
    "    n_foreground += np.sum(seg[:, :, 0])\n",
    "    n_background += np.sum(seg[:, :, 2])\n",
    "ratio_foreground = n_foreground / (n_background + n_foreground + n_border)\n",
    "ratio_border = n_border / (n_background + n_foreground + n_border)\n",
    "ratio_background = n_background / (n_background + n_foreground + n_border)\n",
    "print(\n",
    "    f\"The ratio of foreground, border and backgroun are {ratio_foreground}, {ratio_border}, {ratio_background}, respectively \"\n",
    ")\n",
    "print(\n",
    "    f\"The alpha of foreground, border and backgroun are {1-ratio_foreground}, {1-ratio_border}, {1-ratio_background}, respectively \"\n",
    ")\n",
    "print(\n",
    "    f\"The class weights of foreground, border and backgroun are {1/ratio_foreground/3}, {1/ratio_border/3}, {1/ratio_background/3}, respectively \"\n",
    ")"
   ]
  },
  {
   "cell_type": "code",
   "execution_count": null,
   "metadata": {},
   "outputs": [],
   "source": [
    "n_background + n_foreground + n_border"
   ]
  },
  {
   "cell_type": "code",
   "execution_count": null,
   "metadata": {},
   "outputs": [],
   "source": [
    "w = watershed(mask[:, :, 1], mask=mask[:, :, 0])\n"
   ]
  },
  {
   "cell_type": "code",
   "execution_count": null,
   "metadata": {},
   "outputs": [],
   "source": [
    "plt.imshow(w)\n",
    "plt.colorbar()"
   ]
  },
  {
   "cell_type": "code",
   "execution_count": null,
   "metadata": {},
   "outputs": [],
   "source": [
    "w.shape"
   ]
  },
  {
   "cell_type": "code",
   "execution_count": null,
   "metadata": {},
   "outputs": [],
   "source": [
    "mask = np.load(\"/home/valentin/python_wkspce/2d_bispectrum_cnn/data/raw/MoNuSeg2018Training/MasksV2_instance/binary/TCGA-A7-A13F-01Z-00-DX1.npy\")"
   ]
  },
  {
   "cell_type": "code",
   "execution_count": null,
   "metadata": {},
   "outputs": [],
   "source": [
    "len(np.unique(mask))"
   ]
  },
  {
   "cell_type": "code",
   "execution_count": null,
   "metadata": {},
   "outputs": [],
   "source": [
    "plt.imshow(mask)"
   ]
  },
  {
   "cell_type": "code",
   "execution_count": null,
   "metadata": {},
   "outputs": [],
   "source": []
  }
 ],
 "metadata": {
  "interpreter": {
   "hash": "88c0ff2719174138dc7745eb4f73106ff7a64e8611d08c5f9e483d7cac656239"
  },
  "kernelspec": {
   "display_name": "Python 3.6.9 64-bit ('env': virtualenv)",
   "name": "python3"
  },
  "language_info": {
   "codemirror_mode": {
    "name": "ipython",
    "version": 3
   },
   "file_extension": ".py",
   "mimetype": "text/x-python",
   "name": "python",
   "nbconvert_exporter": "python",
   "pygments_lexer": "ipython3",
   "version": "3.6.9"
  },
  "orig_nbformat": 4
 },
 "nbformat": 4,
 "nbformat_minor": 2
}
