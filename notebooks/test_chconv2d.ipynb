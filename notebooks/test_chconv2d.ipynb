{
 "cells": [
  {
   "cell_type": "code",
   "execution_count": 1,
   "metadata": {},
   "outputs": [],
   "source": [
    "from itertools import product\n",
    "\n",
    "import tensorflow as tf\n",
    "import numpy as np\n",
    "import matplotlib.pyplot as plt\n",
    "from scipy.ndimage import rotate\n",
    "\n",
    "from src.models.layers import CHConv2D, ECHConv2D\n"
   ]
  },
  {
   "cell_type": "code",
   "execution_count": 2,
   "metadata": {},
   "outputs": [],
   "source": [
    "def tri(x):\n",
    "    return np.where(np.abs(x) <= 1, np.where(x < 0, x + 1, 1 - x), 0)\n",
    "\n",
    "\n",
    "def get_atoms(kernel_size=3, max_degree=5, normalize=True):\n",
    "    radius = (kernel_size - 1) // 2\n",
    "    x_grid = np.arange(-radius, radius + 1, 1)\n",
    "    x, y = np.meshgrid(x_grid, x_grid)\n",
    "    r = np.sqrt(x**2 + y**2)\n",
    "    theta = np.arctan2(y, x)\n",
    "    atoms = np.zeros(\n",
    "        (\n",
    "            kernel_size,\n",
    "            kernel_size,\n",
    "            max_degree + 1,\n",
    "            kernel_size // 2 + 1,\n",
    "        ),\n",
    "        dtype=np.csingle,\n",
    "    )\n",
    "    for i, n in product(range(kernel_size // 2 + 1), range(max_degree + 1)):\n",
    "        # atoms[:, :, 0, 0, n, i] = (np.exp(-0.5 * ((r - i) / sigma)**2) *\n",
    "        #                            np.exp(theta * n * 1j))\n",
    "        atoms[:, :, n, i] = (tri(r - i) * np.exp(theta * n * (1j)))\n",
    "    atoms[kernel_size // 2, kernel_size // 2, :, :] = 0\n",
    "    if normalize:\n",
    "        norm = np.sqrt(np.sum(np.conj(atoms) * atoms, axis=(0, 1)))\n",
    "        norm[norm == 0] = 1\n",
    "        atoms = atoms / norm\n",
    "\n",
    "    return atoms\n",
    "\n",
    "\n",
    "def compute_spectrum(f, kernel_size=3, max_degree=5):\n",
    "    atoms = get_atoms(kernel_size=kernel_size,\n",
    "                      max_degree=max_degree,\n",
    "                      normalize=True)\n",
    "    atoms = np.sum(atoms, axis=-1)\n",
    "    # norm = np.sqrt(np.sum(np.conj(atoms) * atoms, axis=(0, 1)))\n",
    "    # norm[norm == 0] = 1\n",
    "    # atoms = atoms / norm\n",
    "    spectrum = np.zeros((max_degree + 1))\n",
    "    for n in range(max_degree + 1):\n",
    "        ch_proj = np.sum(f * np.conj(atoms[..., n]))\n",
    "        spectrum[n] = np.sqrt(np.abs(ch_proj * np.conj(ch_proj)))\n",
    "    return spectrum\n"
   ]
  },
  {
   "cell_type": "code",
   "execution_count": 3,
   "metadata": {},
   "outputs": [],
   "source": [
    "max_degree = 5\n",
    "kernel_size = 9\n",
    "shs = get_atoms(kernel_size=kernel_size, max_degree=max_degree)\n",
    "shs = np.sum(shs, axis=-1)\n",
    "# shs = get_chs(kernel_size=kernel_size, degrees=max_degree)"
   ]
  },
  {
   "cell_type": "code",
   "execution_count": 4,
   "metadata": {},
   "outputs": [
    {
     "data": {
      "text/plain": [
       "5.9604645e-08"
      ]
     },
     "execution_count": 4,
     "metadata": {},
     "output_type": "execute_result"
    }
   ],
   "source": [
    "dot_prod = np.sum((shs[:, :, 1]) * np.conj(shs[:, :,4]))\n",
    "np.abs(dot_prod)\n"
   ]
  },
  {
   "cell_type": "code",
   "execution_count": 5,
   "metadata": {},
   "outputs": [
    {
     "data": {
      "text/plain": [
       "<matplotlib.colorbar.Colorbar at 0x7fc0e63185f8>"
      ]
     },
     "execution_count": 5,
     "metadata": {},
     "output_type": "execute_result"
    },
    {
     "data": {
      "image/png": "[encoded data removed]",
      "text/plain": [
       "<Figure size 432x288 with 2 Axes>"
      ]
     },
     "metadata": {
      "needs_background": "light"
     },
     "output_type": "display_data"
    }
   ],
   "source": [
    "plt.imshow(np.abs(shs[...,0]))\n",
    "plt.colorbar()"
   ]
  },
  {
   "cell_type": "code",
   "execution_count": 6,
   "metadata": {},
   "outputs": [
    {
     "data": {
      "text/plain": [
       "<matplotlib.colorbar.Colorbar at 0x7fc0e61dc208>"
      ]
     },
     "execution_count": 6,
     "metadata": {},
     "output_type": "execute_result"
    },
    {
     "data": {
      "image/png": "[encoded data removed]",
      "text/plain": [
       "<Figure size 432x288 with 2 Axes>"
      ]
     },
     "metadata": {
      "needs_background": "light"
     },
     "output_type": "display_data"
    }
   ],
   "source": [
    "plt.imshow(np.real(shs[...,5]))\n",
    "plt.colorbar()"
   ]
  },
  {
   "cell_type": "code",
   "execution_count": 9,
   "metadata": {},
   "outputs": [],
   "source": [
    "factor = np.zeros((max_degree + 1, ))\n",
    "factor[1] = 1\n",
    "factor[3] = 0\n",
    "factor[5] = 0\n",
    "factor = factor[np.newaxis, np.newaxis, :]\n",
    "\n",
    "phi = np.pi * 0.25\n",
    "rotation_factor = np.exp(1j * np.arange(max_degree + 1) * phi)\n"
   ]
  },
  {
   "cell_type": "code",
   "execution_count": 10,
   "metadata": {},
   "outputs": [],
   "source": [
    "f = np.real(np.sum(shs * factor, axis=-1))\n",
    "f_rotated = np.real(np.sum(shs * factor * rotation_factor, axis=-1))"
   ]
  },
  {
   "cell_type": "code",
   "execution_count": 11,
   "metadata": {},
   "outputs": [
    {
     "data": {
      "text/plain": [
       "<matplotlib.colorbar.Colorbar at 0x7fc0e60984a8>"
      ]
     },
     "execution_count": 11,
     "metadata": {},
     "output_type": "execute_result"
    },
    {
     "data": {
      "image/png": "[encoded data removed]",
      "text/plain": [
       "<Figure size 432x288 with 2 Axes>"
      ]
     },
     "metadata": {
      "needs_background": "light"
     },
     "output_type": "display_data"
    }
   ],
   "source": [
    "plt.imshow(f)\n",
    "plt.colorbar()"
   ]
  },
  {
   "cell_type": "code",
   "execution_count": 12,
   "metadata": {},
   "outputs": [
    {
     "data": {
      "text/plain": [
       "<matplotlib.colorbar.Colorbar at 0x7fc0e604a710>"
      ]
     },
     "execution_count": 12,
     "metadata": {},
     "output_type": "execute_result"
    },
    {
     "data": {
      "image/png": "[encoded data removed]",
      "text/plain": [
       "<Figure size 432x288 with 2 Axes>"
      ]
     },
     "metadata": {
      "needs_background": "light"
     },
     "output_type": "display_data"
    }
   ],
   "source": [
    "plt.imshow(f_rotated)\n",
    "plt.colorbar()"
   ]
  },
  {
   "cell_type": "code",
   "execution_count": 13,
   "metadata": {},
   "outputs": [],
   "source": [
    "layer = ECHConv2D(1,\n",
    "                 kernel_size,\n",
    "                 max_degree=max_degree,\n",
    "                 initializer=tf.keras.initializers.Constant(1.0))\n"
   ]
  },
  {
   "cell_type": "code",
   "execution_count": 14,
   "metadata": {},
   "outputs": [],
   "source": [
    "x = f[np.newaxis, :, :, np.newaxis]\n",
    "y = np.squeeze(layer(x).numpy())\n"
   ]
  },
  {
   "cell_type": "code",
   "execution_count": 15,
   "metadata": {},
   "outputs": [
    {
     "data": {
      "text/plain": [
       "(6,)"
      ]
     },
     "execution_count": 15,
     "metadata": {},
     "output_type": "execute_result"
    }
   ],
   "source": [
    "y.shape"
   ]
  },
  {
   "cell_type": "code",
   "execution_count": 16,
   "metadata": {},
   "outputs": [
    {
     "data": {
      "text/plain": [
       "array([4.6566129e-10, 2.4998870e+00, 7.4511625e-08, 1.9323997e-01,\n",
       "       1.9446587e-08, 1.9324008e-01], dtype=float32)"
      ]
     },
     "execution_count": 16,
     "metadata": {},
     "output_type": "execute_result"
    }
   ],
   "source": [
    "np.abs(y)"
   ]
  },
  {
   "cell_type": "code",
   "execution_count": 17,
   "metadata": {},
   "outputs": [
    {
     "data": {
      "text/plain": [
       "array([0.00000000e+00, 1.09658817e+00, 0.00000000e+00, 6.48214102e-02,\n",
       "       8.32667268e-17, 6.48214118e-02])"
      ]
     },
     "execution_count": 17,
     "metadata": {},
     "output_type": "execute_result"
    }
   ],
   "source": [
    "compute_spectrum(f, kernel_size=kernel_size, max_degree=max_degree)"
   ]
  },
  {
   "cell_type": "code",
   "execution_count": null,
   "metadata": {},
   "outputs": [],
   "source": []
  },
  {
   "cell_type": "code",
   "execution_count": null,
   "metadata": {},
   "outputs": [],
   "source": [
    "filters = layer.filters.numpy()\n",
    "plt.imshow(np.real(filters[:, :, 0, 0, 1]))\n",
    "plt.colorbar()"
   ]
  },
  {
   "cell_type": "code",
   "execution_count": null,
   "metadata": {},
   "outputs": [],
   "source": [
    "plt.imshow(np.real(filters[:, :, 0, 0, 1]))\n",
    "plt.colorbar()"
   ]
  },
  {
   "cell_type": "code",
   "execution_count": null,
   "metadata": {},
   "outputs": [],
   "source": [
    "atoms = np.squeeze(layer.atoms.numpy())\n",
    "plt.imshow(np.real(np.sum(atoms, axis=-1)[:, :, 0]))\n",
    "plt.colorbar()"
   ]
  },
  {
   "cell_type": "code",
   "execution_count": null,
   "metadata": {},
   "outputs": [],
   "source": [
    "np.squeeze(y)"
   ]
  },
  {
   "cell_type": "code",
   "execution_count": null,
   "metadata": {},
   "outputs": [],
   "source": []
  }
 ],
 "metadata": {
  "interpreter": {
   "hash": "3532526402f3e453f50b30fb761361cb4afb692af01527e4a6be9a9bc9e3569d"
  },
  "kernelspec": {
   "display_name": "Python 3.6.9 64-bit ('env': virtualenv)",
   "name": "python3"
  },
  "language_info": {
   "codemirror_mode": {
    "name": "ipython",
    "version": 3
   },
   "file_extension": ".py",
   "mimetype": "text/x-python",
   "name": "python",
   "nbconvert_exporter": "python",
   "pygments_lexer": "ipython3",
   "version": "3.6.9"
  },
  "orig_nbformat": 4
 },
 "nbformat": 4,
 "nbformat_minor": 2
}