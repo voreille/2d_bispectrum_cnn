{
 "cells": [
  {
   "cell_type": "code",
   "execution_count": 2,
   "source": [
    "from itertools import product\n",
    "\n",
    "import tensorflow as tf\n",
    "import numpy as np\n",
    "import matplotlib.pyplot as plt\n",
    "from scipy.ndimage import rotate\n",
    "\n",
    "from src.models.layers import ECHConv2D\n",
    "\n",
    "np.set_printoptions(precision=2, linewidth=150)\n"
   ],
   "outputs": [],
   "metadata": {}
  },
  {
   "cell_type": "code",
   "execution_count": 3,
   "source": [
    "def tri(x):\n",
    "    return np.where(np.abs(x) <= 1, np.where(x < 0, x + 1, 1 - x), 0)\n",
    "\n",
    "\n",
    "def get_theta_in_degree(kernel_size):\n",
    "    radius = (kernel_size - 1) // 2\n",
    "    x_grid = np.arange(-radius, radius + 1, 1)\n",
    "    x, y = np.meshgrid(x_grid, x_grid)\n",
    "    theta = np.arctan2(y, x)\n",
    "    return theta / np.pi * 180.0\n",
    "\n",
    "\n",
    "def get_atoms(\n",
    "    kernel_profiles,\n",
    "    normalize=True,\n",
    "    n_harmonics=4,\n",
    "):\n",
    "    kernel_size, _, n_profiles = kernel_profiles.shape\n",
    "    radius = (kernel_size - 1) // 2\n",
    "    x_grid = np.arange(-radius, radius + 1, 1)\n",
    "    x, y = np.meshgrid(x_grid, x_grid)\n",
    "    r = np.sqrt(x**2 + y**2)\n",
    "    theta = np.arctan2(y, x)\n",
    "    atoms = np.zeros(\n",
    "        (\n",
    "            kernel_size,\n",
    "            kernel_size,\n",
    "            n_harmonics,\n",
    "            n_profiles,\n",
    "        ),\n",
    "        dtype=np.cdouble,\n",
    "    )\n",
    "    for k, i in product(range(n_harmonics), range(n_profiles)):\n",
    "        atoms[:, :, k, i] = kernel_profiles[:, :, i] * np.exp(1j * k * theta)\n",
    "\n",
    "    atoms[:, :, 1:, 0] = 0\n",
    "\n",
    "    if normalize:\n",
    "        norm = np.sqrt(np.sum(np.conj(atoms) * atoms, axis=(0, 1)))\n",
    "        norm[norm == 0] = 1\n",
    "        atoms = atoms / norm\n",
    "\n",
    "    return atoms\n",
    "\n",
    "\n",
    "def compute_spectrum(\n",
    "    f,\n",
    "    kernel_profiles,\n",
    "    n_harmonics=4,\n",
    "):\n",
    "    atoms = get_atoms(\n",
    "        kernel_profiles=kernel_profiles,\n",
    "        normalize=True,\n",
    "        n_harmonics=n_harmonics,\n",
    "    )\n",
    "    spectrum = np.zeros((n_harmonics))\n",
    "    atoms_proj = np.sum(atoms, axis=-1)\n",
    "    for n in range(n_harmonics):\n",
    "        ch_proj = np.sum(f * np.conj(atoms_proj[..., n]))\n",
    "        spectrum[n] = np.sqrt(np.abs(ch_proj * np.conj(ch_proj)))\n",
    "    return spectrum\n"
   ],
   "outputs": [],
   "metadata": {}
  },
  {
   "cell_type": "code",
   "execution_count": 4,
   "source": [
    "get_theta_in_degree(9)"
   ],
   "outputs": [
    {
     "output_type": "execute_result",
     "data": {
      "text/plain": [
       "array([[-135.  , -126.87, -116.57, -104.04,  -90.  ,  -75.96,  -63.43,  -53.13,  -45.  ],\n",
       "       [-143.13, -135.  , -123.69, -108.43,  -90.  ,  -71.57,  -56.31,  -45.  ,  -36.87],\n",
       "       [-153.43, -146.31, -135.  , -116.57,  -90.  ,  -63.43,  -45.  ,  -33.69,  -26.57],\n",
       "       [-165.96, -161.57, -153.43, -135.  ,  -90.  ,  -45.  ,  -26.57,  -18.43,  -14.04],\n",
       "       [ 180.  ,  180.  ,  180.  ,  180.  ,    0.  ,    0.  ,    0.  ,    0.  ,    0.  ],\n",
       "       [ 165.96,  161.57,  153.43,  135.  ,   90.  ,   45.  ,   26.57,   18.43,   14.04],\n",
       "       [ 153.43,  146.31,  135.  ,  116.57,   90.  ,   63.43,   45.  ,   33.69,   26.57],\n",
       "       [ 143.13,  135.  ,  123.69,  108.43,   90.  ,   71.57,   56.31,   45.  ,   36.87],\n",
       "       [ 135.  ,  126.87,  116.57,  104.04,   90.  ,   75.96,   63.43,   53.13,   45.  ]])"
      ]
     },
     "metadata": {},
     "execution_count": 4
    }
   ],
   "metadata": {}
  },
  {
   "cell_type": "code",
   "execution_count": 5,
   "source": [
    "def compute_kernel_profiles(kernel_size):\n",
    "    radius_max = kernel_size // 2\n",
    "    kernel_profiles = np.zeros((kernel_size, kernel_size, radius_max))\n",
    "    x_grid = np.arange(-radius_max, radius_max + 1, 1)\n",
    "    x, y = np.meshgrid(x_grid, x_grid)\n",
    "    r = np.sqrt(x**2 + y**2)\n",
    "    for s in range(1, radius_max + 1):\n",
    "        tmp = np.zeros_like(r)\n",
    "        tmp[(r >= kernel_size * (s - 1) / (2 * radius_max))\n",
    "            & (r < kernel_size * s / 2 / radius_max)] = 1\n",
    "        kernel_profiles[:, :, s - 1] = tmp\n",
    "    return kernel_profiles\n",
    "\n",
    "\n",
    "def is_approx_equal(x, y, epsilon=1e-3):\n",
    "    return np.abs(x - y) / (np.sqrt(np.abs(x) * np.abs(y)) + epsilon) < epsilon\n",
    "\n",
    "\n",
    "def compute_kernel_profiles_complete(kernel_size):\n",
    "    radius_max = kernel_size // 2\n",
    "    n_profiles = radius_max**2 + radius_max + 1\n",
    "    x_grid = np.arange(-radius_max, radius_max + 1, 1)\n",
    "    x, y = np.meshgrid(x_grid, x_grid)\n",
    "    theta = (np.arctan2(y, x) + 2 * np.pi) % (2 * np.pi)\n",
    "    r = np.sqrt(x**2 + y**2)\n",
    "    kernel_profiles = np.zeros((kernel_size, kernel_size, n_profiles))\n",
    "    kernel_profiles[kernel_size // 2, kernel_size // 2, 0] = 1\n",
    "    theta_shifts = [k * np.pi / 2 for k in range(4)]\n",
    "    profile_counter = 1\n",
    "    for i in range(1, radius_max + 1):\n",
    "        n_pixels = 8 * i\n",
    "        d_theta = theta[np.where(((np.abs(x) == i) | (np.abs(y) == i))\n",
    "                                 & (r <= np.sqrt(2) * i))]\n",
    "        d_theta.sort()\n",
    "        d_theta = d_theta[:n_pixels // 4]\n",
    "        for dt in d_theta:\n",
    "            shifts = (dt + np.array(theta_shifts)) % (2 * np.pi)\n",
    "            for t in shifts:\n",
    "                kernel_profiles[is_approx_equal(theta, t) & ((np.abs(x) == i) |\n",
    "                                                             (np.abs(y) == i))\n",
    "                                & (r <= np.sqrt(2) * i), profile_counter] = 1\n",
    "            profile_counter += 1\n",
    "\n",
    "    return kernel_profiles\n"
   ],
   "outputs": [],
   "metadata": {}
  },
  {
   "cell_type": "code",
   "execution_count": 11,
   "source": [
    "def get_circular_mask(kernel_size):\n",
    "    radius_max = kernel_size // 2\n",
    "    x_grid = np.arange(-radius_max, radius_max + 1, 1)\n",
    "    x, y = np.meshgrid(x_grid, x_grid)\n",
    "    r = np.sqrt(x**2 + y**2)\n",
    "    return (r <= radius_max).astype(int)\n",
    "\n",
    "\n",
    "def get_kernel_profiles_disk(kernel_size):\n",
    "    radius_max = kernel_size // 2\n",
    "    n_profiles = radius_max + 1\n",
    "    x_grid = np.arange(-radius_max, radius_max + 1, 1)\n",
    "    x, y = np.meshgrid(x_grid, x_grid)\n",
    "    r = np.sqrt(x**2 + y**2)\n",
    "    radial_profiles = np.zeros((kernel_size, kernel_size, n_profiles))\n",
    "    for i in range(n_profiles):\n",
    "        radial_profiles[(r <= i) & (r > i - 1), i] = 1\n",
    "    return radial_profiles\n"
   ],
   "outputs": [],
   "metadata": {}
  },
  {
   "cell_type": "code",
   "execution_count": 12,
   "source": [
    "kernel_profiles = get_kernel_profiles_disk(11)"
   ],
   "outputs": [],
   "metadata": {}
  },
  {
   "cell_type": "code",
   "execution_count": 22,
   "source": [
    "plt.imshow(kernel_profiles[:, :, 3])\n"
   ],
   "outputs": [
    {
     "output_type": "execute_result",
     "data": {
      "text/plain": [
       "<matplotlib.image.AxesImage at 0x7fc55bbd6c18>"
      ]
     },
     "metadata": {},
     "execution_count": 22
    },
    {
     "output_type": "display_data",
     "data": {
      "text/plain": [
       "<Figure size 432x288 with 1 Axes>"
      ],
      "image/png": "[encoded data removed]"
     },
     "metadata": {
      "needs_background": "light"
     }
    }
   ],
   "metadata": {}
  },
  {
   "cell_type": "code",
   "execution_count": 7,
   "source": [
    "# kernel_profiles = np.zeros((9, 9, 7))\n",
    "# kernel_profiles[4, 4, 0] = 1\n",
    "# kernel_profiles[([5, 4, 4, 3], [4, 3, 5, 4], [1, 1, 1, 1])] = 1\n",
    "# kernel_profiles[([5, 5, 3, 3], [5, 3, 5, 3], [2, 2, 2, 2])] = 1\n",
    "# kernel_profiles[([6, 2, 4, 4], [4, 4, 6, 2], [3, 3, 3, 3])] = 1\n",
    "# kernel_profiles[([6, 2, 5, 3], [5, 3, 2, 6], [4, 4, 4, 4])] = 1\n",
    "# kernel_profiles[([6, 2, 5, 3], [3, 5, 6, 2], [5, 5, 5, 5])] = 1\n",
    "# kernel_profiles[([6, 6, 2, 2], [2, 6, 2, 6], [6, 6, 6, 6])] = 1\n"
   ],
   "outputs": [],
   "metadata": {}
  },
  {
   "cell_type": "code",
   "execution_count": 8,
   "source": [
    "kernel_profiles[:,:,2]"
   ],
   "outputs": [
    {
     "output_type": "execute_result",
     "data": {
      "text/plain": [
       "array([[0., 0., 0., 0., 0., 0., 0., 0., 0., 0., 0.],\n",
       "       [0., 0., 0., 0., 0., 0., 0., 0., 0., 0., 0.],\n",
       "       [0., 0., 0., 0., 0., 0., 0., 0., 0., 0., 0.],\n",
       "       [0., 0., 0., 0., 0., 0., 0., 0., 0., 0., 0.],\n",
       "       [0., 0., 0., 0., 1., 0., 1., 0., 0., 0., 0.],\n",
       "       [0., 0., 0., 0., 0., 0., 0., 0., 0., 0., 0.],\n",
       "       [0., 0., 0., 0., 1., 0., 1., 0., 0., 0., 0.],\n",
       "       [0., 0., 0., 0., 0., 0., 0., 0., 0., 0., 0.],\n",
       "       [0., 0., 0., 0., 0., 0., 0., 0., 0., 0., 0.],\n",
       "       [0., 0., 0., 0., 0., 0., 0., 0., 0., 0., 0.],\n",
       "       [0., 0., 0., 0., 0., 0., 0., 0., 0., 0., 0.]])"
      ]
     },
     "metadata": {},
     "execution_count": 8
    }
   ],
   "metadata": {}
  },
  {
   "cell_type": "code",
   "execution_count": 9,
   "source": [
    "composition_matrix= np.array([\n",
    "    [1, 1, 0, 0, 0, 0, 0, 0, 0],\n",
    "    [0, 0, 1, 0, 0, 0, 0, 0, 0],\n",
    "    [0, 0, 0, 1, 0, 0, 0, 0, 0],\n",
    "    [0, 0, 0, 0, 1, 0, 0, 0, 0],\n",
    "    [0, 0, 0, 0, 0, 1, 0, 0, 0],\n",
    "    [0, 0, 0, 0, 0, 0, 1, 0, 0],\n",
    "    [0, 0, 0, 0, 0, 0, 0, 1, 0],\n",
    "    [0, 0, 0, 0, 0, 0, 0, 0, 1],\n",
    "]).T\n"
   ],
   "outputs": [],
   "metadata": {}
  },
  {
   "cell_type": "code",
   "execution_count": 10,
   "source": [
    "plt.imshow(kernel_profiles[..., 4])\n"
   ],
   "outputs": [
    {
     "output_type": "execute_result",
     "data": {
      "text/plain": [
       "<matplotlib.image.AxesImage at 0x7fe1faa51f98>"
      ]
     },
     "metadata": {},
     "execution_count": 10
    },
    {
     "output_type": "display_data",
     "data": {
      "text/plain": [
       "<Figure size 432x288 with 1 Axes>"
      ],
      "image/png": "[encoded data removed]"
     },
     "metadata": {
      "needs_background": "light"
     }
    }
   ],
   "metadata": {}
  },
  {
   "cell_type": "code",
   "execution_count": 11,
   "source": [
    "kernel_profiles[:,:,4] * get_theta_in_degree(11)"
   ],
   "outputs": [
    {
     "output_type": "execute_result",
     "data": {
      "text/plain": [
       "array([[  -0.  ,   -0.  ,   -0.  ,   -0.  ,   -0.  ,   -0.  ,   -0.  ,   -0.  ,   -0.  ,   -0.  ,   -0.  ],\n",
       "       [  -0.  ,   -0.  ,   -0.  ,   -0.  ,   -0.  ,   -0.  ,   -0.  ,   -0.  ,   -0.  ,   -0.  ,   -0.  ],\n",
       "       [  -0.  ,   -0.  ,   -0.  ,   -0.  ,   -0.  ,   -0.  ,   -0.  ,   -0.  ,   -0.  ,   -0.  ,   -0.  ],\n",
       "       [  -0.  ,   -0.  ,   -0.  ,   -0.  ,   -0.  ,   -0.  ,  -63.43,   -0.  ,   -0.  ,   -0.  ,   -0.  ],\n",
       "       [  -0.  ,   -0.  ,   -0.  , -153.43,   -0.  ,   -0.  ,   -0.  ,   -0.  ,   -0.  ,   -0.  ,   -0.  ],\n",
       "       [   0.  ,    0.  ,    0.  ,    0.  ,    0.  ,    0.  ,    0.  ,    0.  ,    0.  ,    0.  ,    0.  ],\n",
       "       [   0.  ,    0.  ,    0.  ,    0.  ,    0.  ,    0.  ,    0.  ,   26.57,    0.  ,    0.  ,    0.  ],\n",
       "       [   0.  ,    0.  ,    0.  ,    0.  ,  116.57,    0.  ,    0.  ,    0.  ,    0.  ,    0.  ,    0.  ],\n",
       "       [   0.  ,    0.  ,    0.  ,    0.  ,    0.  ,    0.  ,    0.  ,    0.  ,    0.  ,    0.  ,    0.  ],\n",
       "       [   0.  ,    0.  ,    0.  ,    0.  ,    0.  ,    0.  ,    0.  ,    0.  ,    0.  ,    0.  ,    0.  ],\n",
       "       [   0.  ,    0.  ,    0.  ,    0.  ,    0.  ,    0.  ,    0.  ,    0.  ,    0.  ,    0.  ,    0.  ]])"
      ]
     },
     "metadata": {},
     "execution_count": 11
    }
   ],
   "metadata": {}
  },
  {
   "cell_type": "code",
   "execution_count": 12,
   "source": [
    "kernel_profiles[:, :, 0]\n"
   ],
   "outputs": [
    {
     "output_type": "execute_result",
     "data": {
      "text/plain": [
       "array([[0., 0., 0., 0., 0., 0., 0., 0., 0., 0., 0.],\n",
       "       [0., 0., 0., 0., 0., 0., 0., 0., 0., 0., 0.],\n",
       "       [0., 0., 0., 0., 0., 0., 0., 0., 0., 0., 0.],\n",
       "       [0., 0., 0., 0., 0., 0., 0., 0., 0., 0., 0.],\n",
       "       [0., 0., 0., 0., 0., 0., 0., 0., 0., 0., 0.],\n",
       "       [0., 0., 0., 0., 0., 1., 0., 0., 0., 0., 0.],\n",
       "       [0., 0., 0., 0., 0., 0., 0., 0., 0., 0., 0.],\n",
       "       [0., 0., 0., 0., 0., 0., 0., 0., 0., 0., 0.],\n",
       "       [0., 0., 0., 0., 0., 0., 0., 0., 0., 0., 0.],\n",
       "       [0., 0., 0., 0., 0., 0., 0., 0., 0., 0., 0.],\n",
       "       [0., 0., 0., 0., 0., 0., 0., 0., 0., 0., 0.]])"
      ]
     },
     "metadata": {},
     "execution_count": 12
    }
   ],
   "metadata": {}
  },
  {
   "cell_type": "code",
   "execution_count": 39,
   "source": [
    "max_degree = 5\n",
    "radius_window = 2\n",
    "shs = get_atoms(\n",
    "    kernel_profiles,\n",
    "    normalize=True,\n",
    "    n_harmonics=4\n",
    ")\n",
    "shs = np.sum(shs, axis=-1)\n",
    "# shs = get_chs(kernel_size=kernel_size, degrees=max_degree)"
   ],
   "outputs": [],
   "metadata": {}
  },
  {
   "cell_type": "code",
   "execution_count": 40,
   "source": [
    "shs.shape"
   ],
   "outputs": [
    {
     "output_type": "execute_result",
     "data": {
      "text/plain": [
       "(11, 11, 4)"
      ]
     },
     "metadata": {},
     "execution_count": 40
    }
   ],
   "metadata": {}
  },
  {
   "cell_type": "code",
   "execution_count": 41,
   "source": [
    "dot_prod = np.sum((shs[:, :, 1]) * np.conj(shs[:, :, 3]))\n",
    "np.abs(dot_prod)\n"
   ],
   "outputs": [
    {
     "output_type": "execute_result",
     "data": {
      "text/plain": [
       "5.389157964038493e-16"
      ]
     },
     "metadata": {},
     "execution_count": 41
    }
   ],
   "metadata": {}
  },
  {
   "cell_type": "code",
   "execution_count": 42,
   "source": [
    "dot_prod_mat = np.zeros((shs.shape[-1], shs.shape[-1]))\n",
    "for k, kp in product(range(shs.shape[-1]),range(shs.shape[-1])):\n",
    "    dot_prod_mat[k, kp] = np.abs(np.sum((shs[:, :, k]) * np.conj(shs[:, :, kp])))\n",
    "\n",
    "dot_prod_mat"
   ],
   "outputs": [
    {
     "output_type": "execute_result",
     "data": {
      "text/plain": [
       "array([[3.10e+01, 6.66e-16, 4.51e-16, 1.78e-15],\n",
       "       [6.66e-16, 3.00e+01, 1.90e-15, 5.39e-16],\n",
       "       [4.51e-16, 1.90e-15, 3.00e+01, 6.66e-16],\n",
       "       [1.78e-15, 5.39e-16, 6.66e-16, 3.00e+01]])"
      ]
     },
     "metadata": {},
     "execution_count": 42
    }
   ],
   "metadata": {}
  },
  {
   "cell_type": "code",
   "execution_count": 43,
   "source": [
    "plt.imshow(np.abs(shs[..., 3]))\n",
    "plt.colorbar()"
   ],
   "outputs": [
    {
     "output_type": "execute_result",
     "data": {
      "text/plain": [
       "<matplotlib.colorbar.Colorbar at 0x7fe16ad76e48>"
      ]
     },
     "metadata": {},
     "execution_count": 43
    },
    {
     "output_type": "display_data",
     "data": {
      "text/plain": [
       "<Figure size 432x288 with 2 Axes>"
      ],
      "image/png": "[encoded data removed]"
     },
     "metadata": {
      "needs_background": "light"
     }
    }
   ],
   "metadata": {}
  },
  {
   "cell_type": "code",
   "execution_count": 44,
   "source": [
    "plt.imshow(np.real(shs[..., 3]))\n",
    "plt.colorbar()"
   ],
   "outputs": [
    {
     "output_type": "execute_result",
     "data": {
      "text/plain": [
       "<matplotlib.colorbar.Colorbar at 0x7fe16ba93710>"
      ]
     },
     "metadata": {},
     "execution_count": 44
    },
    {
     "output_type": "display_data",
     "data": {
      "text/plain": [
       "<Figure size 432x288 with 2 Axes>"
      ],
      "image/png": "[encoded data removed]"
     },
     "metadata": {
      "needs_background": "light"
     }
    }
   ],
   "metadata": {}
  },
  {
   "cell_type": "code",
   "execution_count": 45,
   "source": [
    "factor = np.zeros((shs.shape[-1]), dtype=np.cdouble)\n",
    "factor[1] = 1\n",
    "factor[0] = 1\n",
    "factor[2] = 1\n",
    "factor[3] = np.exp(1j * 2 * np.pi / 3)\n",
    "# factor[4] = np.exp(1j * 2 * np.pi / 3)\n",
    "# factor[5] = np.exp(1j * 2 * np.pi / 3)\n",
    "\n",
    "phi1 = 0\n",
    "phi2 = np.pi * 0.25\n",
    "rotation_factor1 = np.array([np.exp(1j * k * phi1) for k in range(shs.shape[-1])])\n",
    "rotation_factor2 = np.array([np.exp(1j * k * phi2) for k in range(shs.shape[-1])])\n"
   ],
   "outputs": [],
   "metadata": {}
  },
  {
   "cell_type": "code",
   "execution_count": 46,
   "source": [
    "rotation_factor1"
   ],
   "outputs": [
    {
     "output_type": "execute_result",
     "data": {
      "text/plain": [
       "array([1.+0.j, 1.+0.j, 1.+0.j, 1.+0.j])"
      ]
     },
     "metadata": {},
     "execution_count": 46
    }
   ],
   "metadata": {}
  },
  {
   "cell_type": "code",
   "execution_count": 55,
   "source": [
    "mask = get_circular_mask(shs.shape[0])\n",
    "f = (np.sum(shs * factor * rotation_factor1, axis=-1)) \n",
    "f_rotated = (np.sum(shs * factor * rotation_factor2, axis=-1))\n",
    "f_real = np.real(f) * mask\n",
    "f_real_rotated = rotate(f_real, phi2*180/np.pi, reshape=False)"
   ],
   "outputs": [],
   "metadata": {}
  },
  {
   "cell_type": "code",
   "execution_count": 56,
   "source": [
    "plt.imshow(np.real(f))\n",
    "plt.colorbar()"
   ],
   "outputs": [
    {
     "output_type": "execute_result",
     "data": {
      "text/plain": [
       "<matplotlib.colorbar.Colorbar at 0x7fe16a995710>"
      ]
     },
     "metadata": {},
     "execution_count": 56
    },
    {
     "output_type": "display_data",
     "data": {
      "text/plain": [
       "<Figure size 432x288 with 2 Axes>"
      ],
      "image/png": "[encoded data removed]"
     },
     "metadata": {
      "needs_background": "light"
     }
    }
   ],
   "metadata": {}
  },
  {
   "cell_type": "code",
   "execution_count": 57,
   "source": [
    "plt.imshow(np.real(f_rotated))\n",
    "plt.colorbar()"
   ],
   "outputs": [
    {
     "output_type": "execute_result",
     "data": {
      "text/plain": [
       "<matplotlib.colorbar.Colorbar at 0x7fe16a944e10>"
      ]
     },
     "metadata": {},
     "execution_count": 57
    },
    {
     "output_type": "display_data",
     "data": {
      "text/plain": [
       "<Figure size 432x288 with 2 Axes>"
      ],
      "image/png": "[encoded data removed]"
     },
     "metadata": {
      "needs_background": "light"
     }
    }
   ],
   "metadata": {}
  },
  {
   "cell_type": "code",
   "execution_count": 58,
   "source": [
    "plt.imshow(f_real_rotated)\n",
    "plt.colorbar()"
   ],
   "outputs": [
    {
     "output_type": "execute_result",
     "data": {
      "text/plain": [
       "<matplotlib.colorbar.Colorbar at 0x7fe16a882588>"
      ]
     },
     "metadata": {},
     "execution_count": 58
    },
    {
     "output_type": "display_data",
     "data": {
      "text/plain": [
       "<Figure size 432x288 with 2 Axes>"
      ],
      "image/png": "[encoded data removed]"
     },
     "metadata": {
      "needs_background": "light"
     }
    }
   ],
   "metadata": {}
  },
  {
   "cell_type": "code",
   "execution_count": 59,
   "source": [
    "compute_spectrum(f,\n",
    "                 kernel_profiles,\n",
    "                 n_harmonics=8,\n",
    "                 )\n"
   ],
   "outputs": [
    {
     "output_type": "execute_result",
     "data": {
      "text/plain": [
       "array([31.  , 30.  , 30.  , 30.  ,  3.96,  3.96,  3.96,  3.96])"
      ]
     },
     "metadata": {},
     "execution_count": 59
    }
   ],
   "metadata": {}
  },
  {
   "cell_type": "code",
   "execution_count": 60,
   "source": [
    "compute_spectrum(f_rotated,\n",
    "                 kernel_profiles,\n",
    "                 n_harmonics=8,\n",
    "                 )\n"
   ],
   "outputs": [
    {
     "output_type": "execute_result",
     "data": {
      "text/plain": [
       "array([31.  , 30.  , 30.  , 30.  ,  3.96,  3.96,  3.96,  3.96])"
      ]
     },
     "metadata": {},
     "execution_count": 60
    }
   ],
   "metadata": {}
  },
  {
   "cell_type": "code",
   "execution_count": 61,
   "source": [
    "compute_spectrum(f_real,\n",
    "                 kernel_profiles,\n",
    "                 n_harmonics=8,\n",
    "                 )\n"
   ],
   "outputs": [
    {
     "output_type": "execute_result",
     "data": {
      "text/plain": [
       "array([21.  , 10.14,  9.73, 10.14,  0.54,  1.66,  1.23,  1.66])"
      ]
     },
     "metadata": {},
     "execution_count": 61
    }
   ],
   "metadata": {}
  },
  {
   "cell_type": "code",
   "execution_count": 62,
   "source": [
    "compute_spectrum(f_real_rotated,\n",
    "                 kernel_profiles,\n",
    "                 n_harmonics=8,\n",
    "                 )\n"
   ],
   "outputs": [
    {
     "output_type": "execute_result",
     "data": {
      "text/plain": [
       "array([20.88, 10.17,  9.2 , 10.03,  1.93,  1.72,  0.66,  1.72])"
      ]
     },
     "metadata": {},
     "execution_count": 62
    }
   ],
   "metadata": {}
  },
  {
   "cell_type": "code",
   "execution_count": null,
   "source": [],
   "outputs": [],
   "metadata": {}
  }
 ],
 "metadata": {
  "interpreter": {
   "hash": "3532526402f3e453f50b30fb761361cb4afb692af01527e4a6be9a9bc9e3569d"
  },
  "kernelspec": {
   "name": "python3",
   "display_name": "Python 3.6.9 64-bit ('env': virtualenv)"
  },
  "language_info": {
   "codemirror_mode": {
    "name": "ipython",
    "version": 3
   },
   "file_extension": ".py",
   "mimetype": "text/x-python",
   "name": "python",
   "nbconvert_exporter": "python",
   "pygments_lexer": "ipython3",
   "version": "3.6.9"
  },
  "orig_nbformat": 4
 },
 "nbformat": 4,
 "nbformat_minor": 2
}