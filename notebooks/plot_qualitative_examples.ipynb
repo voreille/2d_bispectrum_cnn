{
 "cells": [
  {
   "cell_type": "code",
   "execution_count": 1,
   "metadata": {},
   "outputs": [],
   "source": [
    "import os\n",
    "from random import shuffle\n",
    "import json\n",
    "from itertools import product, combinations\n",
    "from time import perf_counter\n",
    "\n",
    "import numpy as np\n",
    "import tensorflow as tf\n",
    "import matplotlib.pyplot as plt\n",
    "from scipy.ndimage import rotate\n",
    "import seaborn as sns\n",
    "\n",
    "from src.models.monuseg.models import get_model\n",
    "from src.data.monuseg.tf_data import get_dataset, tf_random_crop\n",
    "from src.models.loss import dice_coe_loss, dice_coe_metric\n",
    "from src.models.monuseg.evaluation import post_processing, post_processing_new\n",
    "from src.models.monuseg.metrics import confusion_indices\n",
    "from src.models.monuseg.train_model import eval\n",
    "\n",
    "os.environ[\"CUDA_VISIBLE_DEVICES\"] = \"2\"\n",
    "\n",
    "path_indices = \"/home/valentin/python_wkspce/2d_bispectrum_cnn/data/indices/monuseg.json\"\n",
    "split = 0"
   ]
  },
  {
   "cell_type": "code",
   "execution_count": 2,
   "metadata": {},
   "outputs": [],
   "source": [
    "w_fg = 1.9\n",
    "w_border = 5.0\n",
    "w_bg = 0.44\n",
    "\n",
    "\n",
    "def loss(y_true, y_pred):\n",
    "    l = tf.keras.losses.categorical_crossentropy(y_true, y_pred)\n",
    "    w = (y_true[..., 0] * w_fg + y_true[..., 1] * w_border +\n",
    "         y_true[..., 2] * w_bg)\n",
    "    return tf.reduce_mean(w * l, axis=(1, 2))"
   ]
  },
  {
   "cell_type": "code",
   "execution_count": 3,
   "metadata": {},
   "outputs": [],
   "source": [
    "with open(path_indices, \"r\") as f:\n",
    "    indices_list = json.load(f)\n",
    "\n",
    "ds_train = get_dataset(id_list=indices_list[split][\"train\"]).take(1)\n",
    "ds_train = ds_train.cache().repeat(15)\n",
    "f1 = lambda image, seg: tf_random_crop(\n",
    "    image, seg, rotation_angle=\"right-angle\")\n",
    "f2 = lambda image, seg: (\n",
    "    tf.image.random_brightness(image, max_delta=0.2),\n",
    "    seg,\n",
    ")\n",
    "ds_train = ds_train.map(f1).map(f2).batch(4)\n",
    "\n",
    "ds_val = get_dataset(id_list=indices_list[split][\"val\"])\n",
    "ds_val = ds_val.cache().batch(1)\n",
    "\n",
    "ds_val_instance = get_dataset(id_list=indices_list[split][\"val\"],\n",
    "                              instance=True)\n",
    "ds_val_instance = ds_val_instance.cache().batch(1)\n",
    "\n",
    "ds_test = get_dataset(id_list=indices_list[split][\"test\"], instance=True)\n",
    "ds_test = ds_test.cache().batch(1)"
   ]
  },
  {
   "cell_type": "code",
   "execution_count": 4,
   "metadata": {},
   "outputs": [],
   "source": [
    "model = get_model(\n",
    "    model_name=\"BispectUnet\",\n",
    "    output_channels=3,\n",
    "    n_harmonics=8,\n",
    "    n_feature_maps=[8, 16, 32],\n",
    "    radial_profile_type=\"disks\",\n",
    ")"
   ]
  },
  {
   "cell_type": "code",
   "execution_count": 5,
   "metadata": {},
   "outputs": [
    {
     "data": {
      "text/plain": [
       "<tensorflow.python.training.tracking.util.CheckpointLoadStatus at 0x7f61dc67c128>"
      ]
     },
     "execution_count": 5,
     "metadata": {},
     "output_type": "execute_result"
    }
   ],
   "source": [
    "model.load_weights(\n",
    "    f\"/home/valentin/python_wkspce/2d_bispectrum_cnn/models/MoNuSeg/\"\n",
    "    f\"BispectUnet__rotation_True__nh_8__n_train_-1__psize_60x60__20211202-173734\"\n",
    "    f\"/weights/split_{split}/final\")\n"
   ]
  },
  {
   "cell_type": "code",
   "execution_count": 6,
   "metadata": {},
   "outputs": [],
   "source": [
    "unet = get_model(\n",
    "    # model_name=\"MaskedUnet\",\n",
    "    model_name=\"Unet\",\n",
    "    output_channels=3,\n",
    "    n_feature_maps=[8, 16, 32],\n",
    ")\n"
   ]
  },
  {
   "cell_type": "code",
   "execution_count": 7,
   "metadata": {},
   "outputs": [
    {
     "data": {
      "text/plain": [
       "<tensorflow.python.training.tracking.util.CheckpointLoadStatus at 0x7f61dc611b00>"
      ]
     },
     "execution_count": 7,
     "metadata": {},
     "output_type": "execute_result"
    }
   ],
   "source": [
    "unet.load_weights(\n",
    "    f\"/home/valentin/python_wkspce/2d_bispectrum_cnn/models/MoNuSeg/\"\n",
    "    f\"Unet__rotation_True__nh_0__n_train_-1__psize_60x60__20211202-132039\"\n",
    "    f\"/weights/split_{split}/final\"\n",
    ")"
   ]
  },
  {
   "cell_type": "code",
   "execution_count": 8,
   "metadata": {},
   "outputs": [],
   "source": [
    "def random_crop(*args, size=(256, 256)):\n",
    "    _, w, h, _ = args[0].shape\n",
    "    origin_x = np.random.randint(0, high=w - size[0])\n",
    "    origin_y = np.random.randint(0, high=h - size[1])\n",
    "    outputs = list()\n",
    "    for array in args:\n",
    "        outputs.append(array[:, origin_x:origin_x + size[0],\n",
    "                            origin_y:origin_y + size[1], :])\n",
    "    return outputs"
   ]
  },
  {
   "cell_type": "code",
   "execution_count": 9,
   "metadata": {},
   "outputs": [],
   "source": [
    "def colorize(y_pred):\n",
    "    indices = np.unique(y_pred)\n",
    "    indices = np.delete(indices, 0)\n",
    "    output = np.zeros(y_pred.shape + (3, ))\n",
    "    for i in indices:\n",
    "        color = np.random.uniform(size=(3, ))\n",
    "        positions = np.where(y_pred == i)\n",
    "        output[positions[0], positions[1], :] = color\n",
    "    return output"
   ]
  },
  {
   "cell_type": "code",
   "execution_count": 10,
   "metadata": {},
   "outputs": [],
   "source": [
    "def confusion_indices_dev(y_true, y_pred):\n",
    "    y_true_indices = np.unique(y_true)\n",
    "    y_pred_indices = np.unique(y_pred)\n",
    "\n",
    "    y_true_indices = np.delete(y_true_indices, y_true_indices == 0)\n",
    "    y_pred_indices = np.delete(y_pred_indices, y_pred_indices == 0)\n",
    "\n",
    "    matched_pred_indices = list()\n",
    "    unmatched_true_indices = list()\n",
    "    for i in y_true_indices:\n",
    "        nuclei_mask = y_true == i\n",
    "        y_pred_match = nuclei_mask * y_pred\n",
    "        nuclei_area = np.sum(nuclei_mask)\n",
    "\n",
    "        if np.sum(y_pred_match) == 0:\n",
    "            unmatched_true_indices.append(i)\n",
    "            continue\n",
    "        else:\n",
    "            pred_nuclei_indices = np.unique(y_pred_match)\n",
    "            pred_nuclei_indices = np.delete(pred_nuclei_indices,\n",
    "                                            pred_nuclei_indices == 0)\n",
    "            matched = False\n",
    "            for j in pred_nuclei_indices:\n",
    "                if j not in matched_pred_indices:\n",
    "                    if np.sum(y_pred_match == j) > 0.5 * nuclei_area:\n",
    "                        matched_pred_indices.append(j)\n",
    "                        matched = True\n",
    "                        break\n",
    "\n",
    "            if not matched:\n",
    "                unmatched_true_indices.append(i)\n",
    "\n",
    "    unmatched_pred_indices = list(\n",
    "        set(y_pred_indices) - set(matched_pred_indices))\n",
    "    return matched_pred_indices, unmatched_pred_indices, unmatched_true_indices"
   ]
  },
  {
   "cell_type": "code",
   "execution_count": 11,
   "metadata": {},
   "outputs": [],
   "source": [
    "def fscore(tp, fp, fn):\n",
    "    return tp / (tp + 0.5 * (fp + fn))"
   ]
  },
  {
   "cell_type": "code",
   "execution_count": 12,
   "metadata": {},
   "outputs": [],
   "source": [
    "cropper = tf.keras.layers.Cropping2D((20, 20))"
   ]
  },
  {
   "cell_type": "code",
   "execution_count": 18,
   "metadata": {},
   "outputs": [
    {
     "name": "stdout",
     "output_type": "stream",
     "text": [
      "fscore is 0.8484848484848485\n"
     ]
    }
   ],
   "source": [
    "for x, y in ds_test.take(3).as_numpy_iterator():\n",
    "    pass\n",
    "x, y = random_crop(x,y)\n",
    "y_c = cropper(y).numpy()[0, :, :, 0]\n",
    "\n",
    "(matched_pred_bisp, unmatched_pred_bisp,\n",
    " unmatched_true_bisp) = confusion_indices_dev(y_c, post_processing(model(x)))\n",
    "fp = len(unmatched_pred_bisp)\n",
    "fn = len(unmatched_true_bisp)\n",
    "tp = len(matched_pred_bisp)\n",
    "print(f\"fscore is {fscore(tp,fp,fn)}\")"
   ]
  },
  {
   "cell_type": "code",
   "execution_count": 19,
   "metadata": {},
   "outputs": [
    {
     "name": "stdout",
     "output_type": "stream",
     "text": [
      "fscore is 0.8484848484848485\n"
     ]
    }
   ],
   "source": [
    "(matched_pred_unet, unmatched_pred_unet,\n",
    " unmatched_true_unet) = confusion_indices_dev(y_c, post_processing(unet(x)))\n",
    "fp = len(unmatched_pred_unet)\n",
    "fn = len(unmatched_true_unet)\n",
    "tp = len(matched_pred_unet)\n",
    "print(f\"fscore is {fscore(tp,fp,fn)}\")"
   ]
  },
  {
   "cell_type": "code",
   "execution_count": 20,
   "metadata": {},
   "outputs": [
    {
     "data": {
      "image/png": "[encoded data removed]",
      "text/plain": [
       "<Figure size 288x216 with 12 Axes>"
      ]
     },
     "metadata": {
      "needs_background": "light"
     },
     "output_type": "display_data"
    }
   ],
   "source": [
    "ncols = 3\n",
    "nrows = 4\n",
    "fig, axs = plt.subplots(ncols, nrows, figsize=(4, 3))\n",
    "images = [\n",
    "    cropper(x)[0, ...],\n",
    "    colorize(post_processing(model(x))[0, ...]),\n",
    "    colorize(post_processing(unet(x))[0, ...]),\n",
    "    colorize(cropper(y)[0, :, :, 0]),\n",
    "    None,\n",
    "    model(x)[0, :, :, 1],\n",
    "    unet(x)[0, :, :, 1],\n",
    "    None,\n",
    "    None,\n",
    "    model(x)[0, :, :, 0],\n",
    "    unet(x)[0, :, :, 0],\n",
    "    None,\n",
    "]\n",
    "cmaps = [\n",
    "    None, 'gray', 'gray', 'gray', None, \"binary\", \"binary\", None, None,\n",
    "    \"binary\", \"binary\", None\n",
    "]\n",
    "for i, (r, c) in enumerate(product(range(ncols), range(nrows))):\n",
    "    if images[i] is not None:\n",
    "        pcm = axs[r, c].imshow(images[i], cmap=cmaps[i])\n",
    "        axs[r, c].axes.xaxis.set_visible(False)\n",
    "        axs[r, c].axes.yaxis.set_visible(False)\n",
    "    else:\n",
    "        axs[r, c].axis(\"off\")\n",
    "plt.savefig(\"comp_pred.png\", dpi=200, bbox_inches='tight')"
   ]
  },
  {
   "cell_type": "code",
   "execution_count": 21,
   "metadata": {},
   "outputs": [
    {
     "data": {
      "text/plain": [
       "<matplotlib.image.AxesImage at 0x7f64d5973240>"
      ]
     },
     "execution_count": 21,
     "metadata": {},
     "output_type": "execute_result"
    },
    {
     "data": {
      "image/png": "[encoded data removed]",
      "text/plain": [
       "<Figure size 432x288 with 1 Axes>"
      ]
     },
     "metadata": {
      "needs_background": "light"
     },
     "output_type": "display_data"
    }
   ],
   "source": [
    "y_pred = model(x).numpy()\n",
    "y_pred_quantized = (y_pred == y_pred.max(\n",
    "    axis=-1,\n",
    "    keepdims=True,\n",
    ")).astype(int)\n",
    "plt.imshow(y_pred_quantized[0,:,:,0])\n"
   ]
  },
  {
   "cell_type": "code",
   "execution_count": 17,
   "metadata": {},
   "outputs": [
    {
     "data": {
      "text/plain": [
       "<matplotlib.image.AxesImage at 0x7f64d5ceea20>"
      ]
     },
     "execution_count": 17,
     "metadata": {},
     "output_type": "execute_result"
    },
    {
     "data": {
      "image/png": "[encoded data removed]",
      "text/plain": [
       "<Figure size 432x288 with 1 Axes>"
      ]
     },
     "metadata": {
      "needs_background": "light"
     },
     "output_type": "display_data"
    }
   ],
   "source": [
    "y_pred = unet(x).numpy()\n",
    "y_pred_quantized = (y_pred == y_pred.max(\n",
    "    axis=-1,\n",
    "    keepdims=True,\n",
    ")).astype(int)\n",
    "plt.imshow(y_pred_quantized[0,:,:,0])\n"
   ]
  },
  {
   "cell_type": "code",
   "execution_count": null,
   "metadata": {},
   "outputs": [],
   "source": []
  },
  {
   "cell_type": "code",
   "execution_count": null,
   "metadata": {},
   "outputs": [],
   "source": []
  }
 ],
 "metadata": {
  "interpreter": {
   "hash": "88c0ff2719174138dc7745eb4f73106ff7a64e8611d08c5f9e483d7cac656239"
  },
  "kernelspec": {
   "display_name": "Python 3.6.9 ('env': virtualenv)",
   "language": "python",
   "name": "python3"
  },
  "language_info": {
   "codemirror_mode": {
    "name": "ipython",
    "version": 3
   },
   "file_extension": ".py",
   "mimetype": "text/x-python",
   "name": "python",
   "nbconvert_exporter": "python",
   "pygments_lexer": "ipython3",
   "version": "3.6.9"
  },
  "orig_nbformat": 4
 },
 "nbformat": 4,
 "nbformat_minor": 2
}
