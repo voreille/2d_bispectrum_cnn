{
 "cells": [
  {
   "cell_type": "code",
   "execution_count": null,
   "metadata": {},
   "outputs": [],
   "source": [
    "from scipy.ndimage import watershed_ift\n",
    "from skimage.segmentation import watershed\n",
    "import numpy as np\n",
    "import matplotlib.pyplot as plt\n",
    "from scipy.ndimage import binary_erosion, binary_closing, binary_opening\n",
    "from skimage.measure import label\n",
    "from skimage.segmentation import mark_boundaries\n",
    "\n",
    "from src.data.monuseg.tf_data import get_dataset \n",
    "from src.models.monuseg.metrics import f_score, aggregated_jaccard_index"
   ]
  },
  {
   "cell_type": "code",
   "execution_count": null,
   "metadata": {},
   "outputs": [],
   "source": [
    "result = np.load(\"/home/valentin/python_wkspce/2d_bispectrum_cnn/test.npy.npz\")\n"
   ]
  },
  {
   "cell_type": "code",
   "execution_count": null,
   "metadata": {},
   "outputs": [],
   "source": [
    "image_ids_test = [\n",
    "    'TCGA-A7-A13F-01Z-00-DX1', 'TCGA-21-5786-01Z-00-DX1',\n",
    "    'TCGA-B0-5698-01Z-00-DX1', 'TCGA-G9-6363-01Z-00-DX1'\n",
    "]\n",
    "ds = get_dataset(id_list=image_ids_test, instance=True)"
   ]
  },
  {
   "cell_type": "code",
   "execution_count": null,
   "metadata": {},
   "outputs": [],
   "source": [
    "xx, y_true = next(ds.as_numpy_iterator())"
   ]
  },
  {
   "cell_type": "code",
   "execution_count": null,
   "metadata": {},
   "outputs": [],
   "source": [
    "x = result['x']\n",
    "y_pred = result['y_pred']\n",
    "y_true_3classes = result['y_true']"
   ]
  },
  {
   "cell_type": "code",
   "execution_count": null,
   "metadata": {},
   "outputs": [],
   "source": [
    "y_true.shape"
   ]
  },
  {
   "cell_type": "code",
   "execution_count": null,
   "metadata": {},
   "outputs": [],
   "source": [
    "plt.figure(figsize=(9, 9))\n",
    "image_annotated = mark_boundaries(\n",
    "    x[0,...],\n",
    "    y_true[...,0] !=0,\n",
    "    color=(0, 1, 0),\n",
    "    mode=\"thick\"\n",
    ")\n",
    "plt.imshow(image_annotated)"
   ]
  },
  {
   "cell_type": "code",
   "execution_count": null,
   "metadata": {},
   "outputs": [],
   "source": [
    "plt.imshow(y_true[...,0] > 0.5)\n"
   ]
  },
  {
   "cell_type": "code",
   "execution_count": null,
   "metadata": {},
   "outputs": [],
   "source": [
    "def predict_monuseg(y_pred):\n",
    "    y_pred_quantized = (y_pred > 0.5).astype(np.uint8)\n",
    "    # y_pred_quantized = np.zeros_like(y_pred, dtype=np.uint8)\n",
    "    # y_pred_quantized[..., 1] = (y_pred[..., 1] > 0.5).astype(np.uint8)\n",
    "    # y_pred_quantized[..., 0] = (y_pred[..., 0] > 0.5).astype(np.uint8)\n",
    "    # y_pred_quantized[..., 2] = (y_pred[..., 2] > 0.5).astype(np.uint8)\n",
    "    batch_size = y_pred.shape[0]\n",
    "    output = list()\n",
    "    for s in range(batch_size):\n",
    "        markers = label(y_pred_quantized[s, :, :, 0])\n",
    "        markers[y_pred_quantized[s, :, :, 2] != 0] = -1\n",
    "        out = watershed_ift((y_pred_quantized[s, :, :, 1]).astype(np.uint8),\n",
    "                            markers)\n",
    "        out[out == -1] = 0\n",
    "        output.append(out)\n",
    "    return np.stack(output, axis=0)"
   ]
  },
  {
   "cell_type": "code",
   "execution_count": null,
   "metadata": {},
   "outputs": [],
   "source": [
    "def yo(y_pred):\n",
    "    batch_size = y_pred.shape[0]\n",
    "    output = list()\n",
    "    for s in range(batch_size):\n",
    "        output.append(\n",
    "            label(\n",
    "                binary_opening(y_pred[s, :, :, 0] > 0.5,\n",
    "                               structure=np.ones((3, 3)),\n",
    "                               iterations=2)))\n",
    "\n",
    "    return np.stack(output, axis=0)\n"
   ]
  },
  {
   "cell_type": "code",
   "execution_count": null,
   "metadata": {},
   "outputs": [],
   "source": [
    "y_pred_pp = predict_monuseg(y_pred)\n",
    "y_true_pp = predict_monuseg(y_true_3classes)"
   ]
  },
  {
   "cell_type": "code",
   "execution_count": null,
   "metadata": {},
   "outputs": [],
   "source": [
    "plt.figure(figsize=(9,9))\n",
    "plt.imshow(y_pred_pp[0,...])\n",
    "plt.colorbar()"
   ]
  },
  {
   "cell_type": "code",
   "execution_count": null,
   "metadata": {},
   "outputs": [],
   "source": [
    "plt.figure(figsize=(9, 9))\n",
    "image_annotated = mark_boundaries(y_pred_pp[0, ...]!=0,\n",
    "                                  y_true[...,0] != 0,\n",
    "                                  color=(0, 1, 0),\n",
    "                                  mode=\"thick\")\n",
    "plt.imshow(image_annotated)"
   ]
  },
  {
   "cell_type": "code",
   "execution_count": null,
   "metadata": {},
   "outputs": [],
   "source": [
    "f_score(y_true[..., 0], y_true[..., 0])\n"
   ]
  },
  {
   "cell_type": "code",
   "execution_count": null,
   "metadata": {},
   "outputs": [],
   "source": [
    "aggregated_jaccard_index(y_true[...,0], y_pred_pp[0, ...])\n"
   ]
  },
  {
   "cell_type": "code",
   "execution_count": null,
   "metadata": {},
   "outputs": [],
   "source": [
    "mask = np.load(\"/home/valentin/python_wkspce/2d_bispectrum_cnn/data/raw/MoNuSeg2018Training/MasksV2_instance/binary/TCGA-18-5592-01Z-00-DX1.npy\")"
   ]
  },
  {
   "cell_type": "code",
   "execution_count": null,
   "metadata": {},
   "outputs": [],
   "source": [
    "plt.figure(figsize=(9,9))\n",
    "plt.imshow(mask)"
   ]
  },
  {
   "cell_type": "code",
   "execution_count": null,
   "metadata": {},
   "outputs": [],
   "source": [
    "mask.shape"
   ]
  },
  {
   "cell_type": "code",
   "execution_count": null,
   "metadata": {},
   "outputs": [],
   "source": [
    "mask.astype(np.int64).dtype"
   ]
  },
  {
   "cell_type": "code",
   "execution_count": null,
   "metadata": {},
   "outputs": [],
   "source": [
    "mask = np.load(\"/home/valentin/python_wkspce/2d_bispectrum_cnn/data/raw/MoNuSeg2018Training/MasksV2_instance/color/TCGA-18-5592-01Z-00-DX1.npy\")"
   ]
  },
  {
   "cell_type": "code",
   "execution_count": null,
   "metadata": {},
   "outputs": [],
   "source": [
    "np.min(mask)"
   ]
  },
  {
   "cell_type": "code",
   "execution_count": null,
   "metadata": {},
   "outputs": [],
   "source": []
  }
 ],
 "metadata": {
  "interpreter": {
   "hash": "88c0ff2719174138dc7745eb4f73106ff7a64e8611d08c5f9e483d7cac656239"
  },
  "kernelspec": {
   "display_name": "Python 3.6.9 64-bit ('env': virtualenv)",
   "name": "python3"
  },
  "language_info": {
   "codemirror_mode": {
    "name": "ipython",
    "version": 3
   },
   "file_extension": ".py",
   "mimetype": "text/x-python",
   "name": "python",
   "nbconvert_exporter": "python",
   "pygments_lexer": "ipython3",
   "version": "3.6.9"
  },
  "orig_nbformat": 4
 },
 "nbformat": 4,
 "nbformat_minor": 2
}
