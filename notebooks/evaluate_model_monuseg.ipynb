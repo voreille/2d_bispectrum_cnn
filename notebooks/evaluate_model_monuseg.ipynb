{
 "cells": [
  {
   "cell_type": "code",
   "execution_count": null,
   "metadata": {},
   "outputs": [],
   "source": [
    "import os\n",
    "\n",
    "import tensorflow as tf\n",
    "import json\n",
    "import yaml\n",
    "\n",
    "from src.data.monuseg.tf_data import get_dataset\n",
    "from src.models.monuseg.train_model import eval, loss\n",
    "from src.models.monuseg.light_models import get_model\n",
    "\n",
    "os.environ[\"CUDA_VISIBLE_DEVICES\"] = \"0\"\n"
   ]
  },
  {
   "cell_type": "code",
   "execution_count": null,
   "metadata": {},
   "outputs": [],
   "source": [
    "path_indices = \"/home/valentin/python_wkspce/2d_bispectrum_cnn/data/indices/monuseg.json\"\n",
    "config = \"/home/valentin/python_wkspce/2d_bispectrum_cnn/src/models/monuseg/configs/unetlight_default.yaml\"\n",
    "with open(path_indices, \"r\") as f:\n",
    "    indices_list = json.load(f)\n",
    "\n",
    "\n",
    "with open(config, 'r') as f:\n",
    "    params = yaml.safe_load(f)"
   ]
  },
  {
   "cell_type": "code",
   "execution_count": null,
   "metadata": {},
   "outputs": [],
   "source": [
    "ds_test = get_dataset(id_list=indices_list[0][\"test\"], instance=True)\n",
    "ds_test = ds_test.cache().batch(1)"
   ]
  },
  {
   "cell_type": "code",
   "execution_count": null,
   "metadata": {},
   "outputs": [],
   "source": [
    "model = get_model(model_name=params[\"model_name\"],\n",
    "                  output_channels=3,\n",
    "                  loss=loss,\n",
    "                  n_harmonics=params[\"n_harmonics\"],\n",
    "                  cosine_decay=params[\"cosine_decay\"],\n",
    "                  last_activation=\"softmax\",\n",
    "                  run_eagerly=False)\n"
   ]
  },
  {
   "cell_type": "code",
   "execution_count": null,
   "metadata": {},
   "outputs": [],
   "source": [
    "model.load_weights('/home/valentin/python_wkspce/2d_bispectrum_cnn/models/test')\n",
    "# model = tf.keras.models.load_model(\n",
    "#     '/home/valentin/python_wkspce/2d_bispectrum_cnn/models/test',\n",
    "#     compile=False)\n",
    "# model.compile(\n",
    "#     loss=[loss],\n",
    "#     optimizer=tf.keras.optimizers.Adam(1e-3),\n",
    "#     run_eagerly=False,\n",
    "# )\n"
   ]
  },
  {
   "cell_type": "code",
   "execution_count": null,
   "metadata": {},
   "outputs": [],
   "source": [
    "model.input"
   ]
  },
  {
   "cell_type": "code",
   "execution_count": null,
   "metadata": {},
   "outputs": [],
   "source": [
    "test_aij, test_fscore = eval(ds=ds_test, model=model)\n",
    "print(f\"Prediction result on the test, \"\n",
    "        f\"aij: {test_aij}, fscore: {test_fscore}\")\n",
    "\n"
   ]
  },
  {
   "cell_type": "code",
   "execution_count": null,
   "metadata": {},
   "outputs": [],
   "source": []
  }
 ],
 "metadata": {
  "interpreter": {
   "hash": "88c0ff2719174138dc7745eb4f73106ff7a64e8611d08c5f9e483d7cac656239"
  },
  "kernelspec": {
   "display_name": "Python 3.6.9 64-bit ('env': virtualenv)",
   "language": "python",
   "name": "python3"
  },
  "language_info": {
   "codemirror_mode": {
    "name": "ipython",
    "version": 3
   },
   "file_extension": ".py",
   "mimetype": "text/x-python",
   "name": "python",
   "nbconvert_exporter": "python",
   "pygments_lexer": "ipython3",
   "version": "3.6.9"
  },
  "orig_nbformat": 4
 },
 "nbformat": 4,
 "nbformat_minor": 2
}
