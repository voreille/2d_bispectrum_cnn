{
 "cells": [
  {
   "cell_type": "code",
   "execution_count": 1,
   "metadata": {},
   "outputs": [],
   "source": [
    "import os\n",
    "import pprint\n",
    "from pathlib import Path\n",
    "\n",
    "import tensorflow as tf\n",
    "import json\n",
    "import yaml\n",
    "import pandas as pd\n",
    "from tqdm import tqdm\n",
    "\n",
    "from src.data.monuseg.tf_data import get_dataset\n",
    "from src.models.monuseg.train_model import eval, loss\n",
    "from src.models.monuseg.models import get_model\n",
    "\n",
    "os.environ[\"CUDA_VISIBLE_DEVICES\"] = \"3\"\n",
    "pp = pprint.PrettyPrinter(indent=4)"
   ]
  },
  {
   "cell_type": "code",
   "execution_count": 2,
   "metadata": {},
   "outputs": [],
   "source": [
    "path_indices = \"/home/valentin/python_wkspce/2d_bispectrum_cnn/data/indices/monuseg.json\"\n",
    "config = \"/home/valentin/python_wkspce/2d_bispectrum_cnn/src/models/monuseg/configs/bispect_nh1.yaml\"\n",
    "# config = \"/home/valentin/python_wkspce/2d_bispectrum_cnn/src/models/monuseg/configs/unet_default.yaml\"\n",
    "with open(path_indices, \"r\") as f:\n",
    "    indices_list = json.load(f)\n",
    "\n",
    "\n",
    "with open(config, 'r') as f:\n",
    "    params = yaml.safe_load(f)"
   ]
  },
  {
   "cell_type": "code",
   "execution_count": 3,
   "metadata": {},
   "outputs": [],
   "source": [
    "ds_test = get_dataset(id_list=indices_list[0][\"test\"], instance=True)\n",
    "ds_test = ds_test.cache().batch(1)"
   ]
  },
  {
   "cell_type": "code",
   "execution_count": 4,
   "metadata": {},
   "outputs": [
    {
     "data": {
      "text/plain": [
       "{'model_name': 'BispectUnet',\n",
       " 'rotation': True,\n",
       " 'n_harmonics': 8,\n",
       " 'cosine_decay': False,\n",
       " 'n_train': -1,\n",
       " 'n_feature_maps': [8, 16, 32],\n",
       " 'patch_size': [60, 60],\n",
       " 'batch_size': 16}"
      ]
     },
     "execution_count": 4,
     "metadata": {},
     "output_type": "execute_result"
    }
   ],
   "source": [
    "params[\"n_harmonics\"] = 8\n",
    "params"
   ]
  },
  {
   "cell_type": "code",
   "execution_count": 5,
   "metadata": {},
   "outputs": [],
   "source": [
    "model = get_model(model_name=params[\"model_name\"],\n",
    "                  output_channels=3,\n",
    "                  loss=loss,\n",
    "                  n_harmonics=params[\"n_harmonics\"],\n",
    "                  cosine_decay=params[\"cosine_decay\"],\n",
    "                  last_activation=\"softmax\",\n",
    "                  run_eagerly=False)\n"
   ]
  },
  {
   "cell_type": "code",
   "execution_count": null,
   "metadata": {},
   "outputs": [],
   "source": []
  },
  {
   "cell_type": "code",
   "execution_count": 6,
   "metadata": {},
   "outputs": [
    {
     "data": {
      "text/plain": [
       "<tensorflow.python.training.tracking.util.CheckpointLoadStatus at 0x7f51e85c40b8>"
      ]
     },
     "execution_count": 6,
     "metadata": {},
     "output_type": "execute_result"
    }
   ],
   "source": [
    "model.load_weights('/home/valentin/python_wkspce/2d_bispectrum_cnn/models/MoNuSeg/BispectUnet__rotation_True__nh_8__n_train_-1__psize_60x60__20211202-173734/weights/split_0/final')\n",
    "# model.load_weights('/home/valentin/python_wkspce/2d_bispectrum_cnn/models/MoNuSeg/BispectUnet__rotation_True__nh_8__n_train_-1__psize_60x60__20211202-173734/weights/split_0/final')\n",
    "# model = tf.keras.models.load_model(\n",
    "#     '/home/valentin/python_wkspce/2d_bispectrum_cnn/models/test',\n",
    "#     compile=False)\n",
    "# model.compile(\n",
    "#     loss=[loss],\n",
    "#     optimizer=tf.keras.optimizers.Adam(1e-3),\n",
    "#     run_eagerly=False,\n",
    "# )\n",
    "# eval\n"
   ]
  },
  {
   "cell_type": "code",
   "execution_count": 7,
   "metadata": {},
   "outputs": [],
   "source": [
    "# scores_test = eval(ds=ds_test,\n",
    "#                    model=model,\n",
    "#                    cropper=tf.keras.layers.Cropping2D(cropping=(20, 20)))\n",
    "                   \n",
    "# pp.pprint(scores_test)"
   ]
  },
  {
   "cell_type": "code",
   "execution_count": 8,
   "metadata": {},
   "outputs": [],
   "source": [
    "model_path = Path(\n",
    "    \"/home/valentin/python_wkspce/2d_bispectrum_cnn/models/MoNuSeg/\"\n",
    "    \"BispectUnet__rotation_True__nh_8__n_train_-1__psize_60x60__20211202-173734\"\n",
    "    \"/weights/\")\n",
    "\n",
    "# model_path = Path(\n",
    "#     \"/home/valentin/python_wkspce/2d_bispectrum_cnn/models/MoNuSeg/\"\n",
    "#     \"Unet__rotation_True__nh_0__n_train_-1__psize_60x60__20211202-132039\"\n",
    "#     \"/weights/\")\n"
   ]
  },
  {
   "cell_type": "code",
   "execution_count": 9,
   "metadata": {},
   "outputs": [
    {
     "name": "stderr",
     "output_type": "stream",
     "text": [
      "100%|██████████| 10/10 [26:34<00:00, 159.49s/it]\n"
     ]
    }
   ],
   "source": [
    "cropper = tf.keras.layers.Cropping2D(cropping=(20, 20))\n",
    "scores = pd.DataFrame()\n",
    "for split in tqdm(range(10)):\n",
    "    model.load_weights(model_path / f\"split_{split}/final\")\n",
    "    ds_test = get_dataset(id_list=indices_list[split][\"test\"],\n",
    "                          instance=True).batch(1)\n",
    "    scores = scores.append(\n",
    "        {\n",
    "            \"split\": split,\n",
    "            **eval(ds=ds_test, model=model, cropper=cropper),\n",
    "        },\n",
    "        ignore_index=True,\n",
    "    )\n"
   ]
  },
  {
   "cell_type": "code",
   "execution_count": 10,
   "metadata": {},
   "outputs": [
    {
     "data": {
      "text/html": [
       "<div>\n",
       "<style scoped>\n",
       "    .dataframe tbody tr th:only-of-type {\n",
       "        vertical-align: middle;\n",
       "    }\n",
       "\n",
       "    .dataframe tbody tr th {\n",
       "        vertical-align: top;\n",
       "    }\n",
       "\n",
       "    .dataframe thead th {\n",
       "        text-align: right;\n",
       "    }\n",
       "</style>\n",
       "<table border=\"1\" class=\"dataframe\">\n",
       "  <thead>\n",
       "    <tr style=\"text-align: right;\">\n",
       "      <th></th>\n",
       "      <th>aij</th>\n",
       "      <th>fscore</th>\n",
       "      <th>precision</th>\n",
       "      <th>recall</th>\n",
       "      <th>split</th>\n",
       "    </tr>\n",
       "  </thead>\n",
       "  <tbody>\n",
       "    <tr>\n",
       "      <th>0</th>\n",
       "      <td>0.409412</td>\n",
       "      <td>0.745572</td>\n",
       "      <td>0.760966</td>\n",
       "      <td>0.749922</td>\n",
       "      <td>0.0</td>\n",
       "    </tr>\n",
       "    <tr>\n",
       "      <th>1</th>\n",
       "      <td>0.359154</td>\n",
       "      <td>0.743382</td>\n",
       "      <td>0.747770</td>\n",
       "      <td>0.752788</td>\n",
       "      <td>1.0</td>\n",
       "    </tr>\n",
       "    <tr>\n",
       "      <th>2</th>\n",
       "      <td>0.327390</td>\n",
       "      <td>0.691379</td>\n",
       "      <td>0.670249</td>\n",
       "      <td>0.733313</td>\n",
       "      <td>2.0</td>\n",
       "    </tr>\n",
       "    <tr>\n",
       "      <th>3</th>\n",
       "      <td>0.330561</td>\n",
       "      <td>0.699532</td>\n",
       "      <td>0.706942</td>\n",
       "      <td>0.699573</td>\n",
       "      <td>3.0</td>\n",
       "    </tr>\n",
       "    <tr>\n",
       "      <th>4</th>\n",
       "      <td>0.347168</td>\n",
       "      <td>0.741705</td>\n",
       "      <td>0.691470</td>\n",
       "      <td>0.809801</td>\n",
       "      <td>4.0</td>\n",
       "    </tr>\n",
       "    <tr>\n",
       "      <th>5</th>\n",
       "      <td>0.363134</td>\n",
       "      <td>0.710382</td>\n",
       "      <td>0.712970</td>\n",
       "      <td>0.729414</td>\n",
       "      <td>5.0</td>\n",
       "    </tr>\n",
       "    <tr>\n",
       "      <th>6</th>\n",
       "      <td>0.369630</td>\n",
       "      <td>0.761186</td>\n",
       "      <td>0.784844</td>\n",
       "      <td>0.749924</td>\n",
       "      <td>6.0</td>\n",
       "    </tr>\n",
       "    <tr>\n",
       "      <th>7</th>\n",
       "      <td>0.277081</td>\n",
       "      <td>0.701572</td>\n",
       "      <td>0.706412</td>\n",
       "      <td>0.706955</td>\n",
       "      <td>7.0</td>\n",
       "    </tr>\n",
       "    <tr>\n",
       "      <th>8</th>\n",
       "      <td>0.329653</td>\n",
       "      <td>0.711060</td>\n",
       "      <td>0.655524</td>\n",
       "      <td>0.786719</td>\n",
       "      <td>8.0</td>\n",
       "    </tr>\n",
       "    <tr>\n",
       "      <th>9</th>\n",
       "      <td>0.342614</td>\n",
       "      <td>0.651132</td>\n",
       "      <td>0.566521</td>\n",
       "      <td>0.781921</td>\n",
       "      <td>9.0</td>\n",
       "    </tr>\n",
       "  </tbody>\n",
       "</table>\n",
       "</div>"
      ],
      "text/plain": [
       "        aij    fscore  precision    recall  split\n",
       "0  0.409412  0.745572   0.760966  0.749922    0.0\n",
       "1  0.359154  0.743382   0.747770  0.752788    1.0\n",
       "2  0.327390  0.691379   0.670249  0.733313    2.0\n",
       "3  0.330561  0.699532   0.706942  0.699573    3.0\n",
       "4  0.347168  0.741705   0.691470  0.809801    4.0\n",
       "5  0.363134  0.710382   0.712970  0.729414    5.0\n",
       "6  0.369630  0.761186   0.784844  0.749924    6.0\n",
       "7  0.277081  0.701572   0.706412  0.706955    7.0\n",
       "8  0.329653  0.711060   0.655524  0.786719    8.0\n",
       "9  0.342614  0.651132   0.566521  0.781921    9.0"
      ]
     },
     "execution_count": 10,
     "metadata": {},
     "output_type": "execute_result"
    }
   ],
   "source": [
    "scores"
   ]
  },
  {
   "cell_type": "code",
   "execution_count": null,
   "metadata": {},
   "outputs": [],
   "source": [
    "scores = pd.read_csv(\"scores_nh8_test.csv\")"
   ]
  },
  {
   "cell_type": "code",
   "execution_count": 11,
   "metadata": {},
   "outputs": [
    {
     "data": {
      "text/plain": [
       "aij          0.345580\n",
       "fscore       0.715690\n",
       "precision    0.700367\n",
       "recall       0.750033\n",
       "split        4.500000\n",
       "dtype: float64"
      ]
     },
     "execution_count": 11,
     "metadata": {},
     "output_type": "execute_result"
    }
   ],
   "source": [
    "scores.mean()"
   ]
  },
  {
   "cell_type": "code",
   "execution_count": null,
   "metadata": {},
   "outputs": [],
   "source": [
    "scores.std()"
   ]
  },
  {
   "cell_type": "code",
   "execution_count": null,
   "metadata": {},
   "outputs": [],
   "source": [
    "scores.to_csv(\"scores_nh8_test.csv\")"
   ]
  },
  {
   "cell_type": "code",
   "execution_count": null,
   "metadata": {},
   "outputs": [],
   "source": []
  }
 ],
 "metadata": {
  "interpreter": {
   "hash": "88c0ff2719174138dc7745eb4f73106ff7a64e8611d08c5f9e483d7cac656239"
  },
  "kernelspec": {
   "display_name": "Python 3.6.9 64-bit ('env': virtualenv)",
   "language": "python",
   "name": "python3"
  },
  "language_info": {
   "codemirror_mode": {
    "name": "ipython",
    "version": 3
   },
   "file_extension": ".py",
   "mimetype": "text/x-python",
   "name": "python",
   "nbconvert_exporter": "python",
   "pygments_lexer": "ipython3",
   "version": "3.6.9"
  },
  "orig_nbformat": 4
 },
 "nbformat": 4,
 "nbformat_minor": 2
}
