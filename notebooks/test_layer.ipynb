{
 "cells": [
  {
   "cell_type": "code",
   "execution_count": 1,
   "metadata": {},
   "outputs": [],
   "source": [
    "from itertools import product\n",
    "\n",
    "import tensorflow as tf\n",
    "import numpy as np\n",
    "import matplotlib.pyplot as plt\n",
    "from scipy.ndimage import rotate\n",
    "\n",
    "from src.models.layers import (conv2d_complex, BCHConv2DComplex, tri,\n",
    "                               ECHConv2D)\n"
   ]
  },
  {
   "cell_type": "code",
   "execution_count": 2,
   "metadata": {},
   "outputs": [],
   "source": [
    "def tri(x):\n",
    "    return np.where(np.abs(x) <= 1, np.where(x < 0, x + 1, 1 - x), 0)\n",
    "\n",
    "\n",
    "def get_chs(kernel_size=3, degrees=5):\n",
    "    radius = (kernel_size - 1) // 2\n",
    "    x_grid = np.arange(-radius, radius + 1, 1)\n",
    "    x, y = np.meshgrid(x_grid, x_grid)\n",
    "    r = np.sqrt(x**2 + y**2)\n",
    "    theta = np.arctan2(y, x)\n",
    "    window = np.zeros_like(r)\n",
    "    # for i in range(kernel_size // 2 + 1):\n",
    "    #     window[:, :] += tri(r - i)\n",
    "    window[(r <= radius) & (r >= radius * 0.5)] = 1\n",
    "    atoms = np.zeros(\n",
    "        (\n",
    "            kernel_size,\n",
    "            kernel_size,\n",
    "            degrees + 1,\n",
    "        ),\n",
    "        dtype=np.csingle,\n",
    "    )\n",
    "    window[kernel_size // 2, kernel_size // 2] = 0\n",
    "    for n in range(degrees + 1):\n",
    "        atoms[:, :, n] = window * np.exp(theta * n * (1j))\n",
    "    norm = np.sqrt(np.sum(np.conj(atoms) * atoms, axis=(0, 1)))\n",
    "    norm[norm == 0] = 1\n",
    "    return atoms / norm\n",
    "\n",
    "\n",
    "def get_atoms(kernel_size=3, degrees=5):\n",
    "    radius = (kernel_size - 1) // 2\n",
    "    x_grid = np.arange(-radius, radius + 1, 1)\n",
    "    x, y = np.meshgrid(x_grid, x_grid)\n",
    "    r = np.sqrt(x**2 + y**2)\n",
    "    theta = np.arctan2(y, x)\n",
    "    atoms = np.zeros(\n",
    "        (\n",
    "            kernel_size,\n",
    "            kernel_size,\n",
    "            degrees + 1,\n",
    "            kernel_size // 2 + 1,\n",
    "        ),\n",
    "        dtype=np.csingle,\n",
    "    )\n",
    "    for i, n in product(range(kernel_size // 2 + 1), range(degrees + 1)):\n",
    "        # atoms[:, :, 0, 0, n, i] = (np.exp(-0.5 * ((r - i) / sigma)**2) *\n",
    "        #                            np.exp(theta * n * 1j))\n",
    "        atoms[:, :, n, i] = (tri(r - i) * np.exp(theta * n * (1j)))\n",
    "    atoms[kernel_size // 2, kernel_size // 2, :, :] = 0\n",
    "    norm = np.sqrt(np.sum(np.conj(atoms) * atoms, axis=(0, 1)))\n",
    "    norm[norm == 0] = 1\n",
    "    # atoms = atoms / norm\n",
    "\n",
    "    return atoms / norm\n"
   ]
  },
  {
   "cell_type": "code",
   "execution_count": 3,
   "metadata": {},
   "outputs": [],
   "source": [
    "max_degree = 5\n",
    "kernel_size = 9\n",
    "shs = get_atoms(kernel_size=kernel_size, degrees=max_degree)\n",
    "shs = np.sum(shs, axis=-1)\n",
    "# shs = get_chs(kernel_size=kernel_size, degrees=max_degree)"
   ]
  },
  {
   "cell_type": "code",
   "execution_count": 4,
   "metadata": {},
   "outputs": [],
   "source": [
    "factor = np.zeros((shs.shape[-1]))\n",
    "factor[1] = 1\n",
    "# factor[2] = 1\n",
    "# factor[3] = 1\n",
    "# factor = np.random.uniform(low=0, high=1.0, size=(shs.shape[-1], ))\n",
    "f1_proto = factor * shs\n",
    "# phi = np.random.uniform(low=-np.pi, high=np.pi)\n",
    "phi = np.pi * 0.25\n",
    "rotation_factor = np.exp(1j * np.arange(shs.shape[-1]) * phi)\n",
    "f2_proto = rotation_factor * f1_proto\n",
    "f1 = np.real(np.sum(f1_proto, axis=-1))\n",
    "f2 = np.real(np.sum(f2_proto, axis=-1))\n",
    "f1_rotated = rotate(f1, phi / np.pi * 180, reshape=False)\n"
   ]
  },
  {
   "cell_type": "code",
   "execution_count": 5,
   "metadata": {},
   "outputs": [
    {
     "data": {
      "text/plain": [
       "5.9604645e-08"
      ]
     },
     "execution_count": 5,
     "metadata": {},
     "output_type": "execute_result"
    }
   ],
   "source": [
    "dot_prod = np.sum((shs[:, :, 1]) * np.conj(shs[:, :,4]))\n",
    "np.abs(dot_prod)"
   ]
  },
  {
   "cell_type": "code",
   "execution_count": 6,
   "metadata": {},
   "outputs": [
    {
     "data": {
      "text/plain": [
       "0.19324000516761297"
      ]
     },
     "execution_count": 6,
     "metadata": {},
     "output_type": "execute_result"
    }
   ],
   "source": [
    "dot_prod = np.sum((shs[:, :, 5]) * np.conj(f1))\n",
    "np.abs(dot_prod)"
   ]
  },
  {
   "cell_type": "code",
   "execution_count": 7,
   "metadata": {},
   "outputs": [
    {
     "data": {
      "text/plain": [
       "<matplotlib.colorbar.Colorbar at 0x7fdcb0735ba8>"
      ]
     },
     "execution_count": 7,
     "metadata": {},
     "output_type": "execute_result"
    },
    {
     "data": {
      "image/png": "[encoded data removed]",
      "text/plain": [
       "<Figure size 432x288 with 2 Axes>"
      ]
     },
     "metadata": {
      "needs_background": "light"
     },
     "output_type": "display_data"
    }
   ],
   "source": [
    "plt.imshow(f1)\n",
    "plt.colorbar()"
   ]
  },
  {
   "cell_type": "code",
   "execution_count": 8,
   "metadata": {},
   "outputs": [
    {
     "data": {
      "text/plain": [
       "<matplotlib.colorbar.Colorbar at 0x7fdcb05f56d8>"
      ]
     },
     "execution_count": 8,
     "metadata": {},
     "output_type": "execute_result"
    },
    {
     "data": {
      "image/png": "[encoded data removed]",
      "text/plain": [
       "<Figure size 432x288 with 2 Axes>"
      ]
     },
     "metadata": {
      "needs_background": "light"
     },
     "output_type": "display_data"
    }
   ],
   "source": [
    "plt.imshow(f1_rotated)\n",
    "plt.colorbar()"
   ]
  },
  {
   "cell_type": "code",
   "execution_count": 9,
   "metadata": {},
   "outputs": [
    {
     "data": {
      "text/plain": [
       "<matplotlib.colorbar.Colorbar at 0x7fdcb0532940>"
      ]
     },
     "execution_count": 9,
     "metadata": {},
     "output_type": "execute_result"
    },
    {
     "data": {
      "image/png": "[encoded data removed]",
      "text/plain": [
       "<Figure size 432x288 with 2 Axes>"
      ]
     },
     "metadata": {
      "needs_background": "light"
     },
     "output_type": "display_data"
    }
   ],
   "source": [
    "plt.imshow(f2)\n",
    "plt.colorbar()"
   ]
  },
  {
   "cell_type": "code",
   "execution_count": 10,
   "metadata": {},
   "outputs": [
    {
     "data": {
      "text/plain": [
       "<matplotlib.colorbar.Colorbar at 0x7fdcb046f358>"
      ]
     },
     "execution_count": 10,
     "metadata": {},
     "output_type": "execute_result"
    },
    {
     "data": {
      "image/png": "[encoded data removed]",
      "text/plain": [
       "<Figure size 432x288 with 2 Axes>"
      ]
     },
     "metadata": {
      "needs_background": "light"
     },
     "output_type": "display_data"
    }
   ],
   "source": [
    "f2_rotated_back = rotate(f2, -phi / np.pi * 180, reshape=False)\n",
    "plt.imshow(f2_rotated_back)\n",
    "plt.colorbar()"
   ]
  },
  {
   "cell_type": "code",
   "execution_count": 11,
   "metadata": {},
   "outputs": [
    {
     "data": {
      "text/plain": [
       "<matplotlib.colorbar.Colorbar at 0x7fdcb03a26d8>"
      ]
     },
     "execution_count": 11,
     "metadata": {},
     "output_type": "execute_result"
    },
    {
     "data": {
      "image/png": "[encoded data removed]",
      "text/plain": [
       "<Figure size 432x288 with 2 Axes>"
      ]
     },
     "metadata": {
      "needs_background": "light"
     },
     "output_type": "display_data"
    }
   ],
   "source": [
    "plt.imshow(f1-f2_rotated_back)\n",
    "plt.colorbar()"
   ]
  },
  {
   "cell_type": "code",
   "execution_count": 12,
   "metadata": {},
   "outputs": [],
   "source": [
    "layer = ECHConv2D(1,\n",
    "                  9,\n",
    "                  max_degree=max_degree,\n",
    "                  initializer=tf.keras.initializers.Constant(1.0))\n",
    "# layer = BCHConv2DComplex(1,\n",
    "#                          9,\n",
    "#                          max_degree=max_degree,\n",
    "#                          initializer=tf.keras.initializers.Constant(1.0))\n"
   ]
  },
  {
   "cell_type": "code",
   "execution_count": 13,
   "metadata": {},
   "outputs": [],
   "source": [
    "x = np.stack([f1, f2, f1_rotated], axis=0)\n",
    "x = x[..., np.newaxis]\n",
    "x = tf.constant(x)"
   ]
  },
  {
   "cell_type": "code",
   "execution_count": 14,
   "metadata": {},
   "outputs": [
    {
     "data": {
      "text/plain": [
       "TensorShape([3, 9, 9, 1])"
      ]
     },
     "execution_count": 14,
     "metadata": {},
     "output_type": "execute_result"
    }
   ],
   "source": [
    "x.shape"
   ]
  },
  {
   "cell_type": "code",
   "execution_count": 15,
   "metadata": {},
   "outputs": [],
   "source": [
    "y = layer(x).numpy()"
   ]
  },
  {
   "cell_type": "code",
   "execution_count": 16,
   "metadata": {},
   "outputs": [
    {
     "data": {
      "text/plain": [
       "<matplotlib.colorbar.Colorbar at 0x7fdcac1309b0>"
      ]
     },
     "execution_count": 16,
     "metadata": {},
     "output_type": "execute_result"
    },
    {
     "data": {
      "image/png": "[encoded data removed]",
      "text/plain": [
       "<Figure size 432x288 with 2 Axes>"
      ]
     },
     "metadata": {
      "needs_background": "light"
     },
     "output_type": "display_data"
    }
   ],
   "source": [
    "plt.imshow(np.real(np.squeeze(layer.conv_ch.filters.numpy())[...,0]))\n",
    "plt.colorbar()"
   ]
  },
  {
   "cell_type": "code",
   "execution_count": 17,
   "metadata": {},
   "outputs": [],
   "source": [
    "central_responses = y[:, 0, 0, :]"
   ]
  },
  {
   "cell_type": "code",
   "execution_count": 18,
   "metadata": {},
   "outputs": [
    {
     "data": {
      "text/plain": [
       "array([7.4345619e-09, 2.4998872e+00, 2.1790830e-08, 1.9324005e-01,\n",
       "       8.8205878e-09, 1.9323997e-01], dtype=float32)"
      ]
     },
     "execution_count": 18,
     "metadata": {},
     "output_type": "execute_result"
    }
   ],
   "source": [
    "np.abs(central_responses[0, ...])\n"
   ]
  },
  {
   "cell_type": "code",
   "execution_count": 19,
   "metadata": {},
   "outputs": [
    {
     "data": {
      "text/plain": [
       "array([7.6827993e-09, 2.4998872e+00, 1.9464762e-08, 1.9324005e-01,\n",
       "       1.1902053e-08, 1.9324005e-01], dtype=float32)"
      ]
     },
     "execution_count": 19,
     "metadata": {},
     "output_type": "execute_result"
    }
   ],
   "source": [
    "np.abs(central_responses[1, ...])\n"
   ]
  },
  {
   "cell_type": "code",
   "execution_count": 34,
   "metadata": {},
   "outputs": [
    {
     "data": {
      "text/plain": [
       "array([9.495572  , 1.9159117 , 4.418268  , 2.5803454 , 6.3148317 ,\n",
       "       0.41433862], dtype=float32)"
      ]
     },
     "execution_count": 34,
     "metadata": {},
     "output_type": "execute_result"
    }
   ],
   "source": [
    "np.abs(central_responses[2, ...])"
   ]
  },
  {
   "cell_type": "code",
   "execution_count": 35,
   "metadata": {},
   "outputs": [],
   "source": [
    "def relative_error(x, xp):\n",
    "    return np.abs(x - xp) / np.abs(x)\n"
   ]
  },
  {
   "cell_type": "code",
   "execution_count": 36,
   "metadata": {},
   "outputs": [
    {
     "data": {
      "text/plain": [
       "array([0.146811  , 0.16521563, 0.11162557, 0.07650324, 0.13696136,\n",
       "       0.29497233], dtype=float32)"
      ]
     },
     "execution_count": 36,
     "metadata": {},
     "output_type": "execute_result"
    }
   ],
   "source": [
    "relative_error(central_responses[0, ...], central_responses[1, ...])\n"
   ]
  },
  {
   "cell_type": "code",
   "execution_count": null,
   "metadata": {},
   "outputs": [],
   "source": [
    "relative_error(central_responses[0, ...], central_responses[2, ...])"
   ]
  },
  {
   "cell_type": "code",
   "execution_count": null,
   "metadata": {},
   "outputs": [],
   "source": []
  }
 ],
 "metadata": {
  "interpreter": {
   "hash": "3532526402f3e453f50b30fb761361cb4afb692af01527e4a6be9a9bc9e3569d"
  },
  "kernelspec": {
   "display_name": "Python 3.6.9 64-bit ('env': virtualenv)",
   "name": "python3"
  },
  "language_info": {
   "name": "python",
   "version": ""
  },
  "orig_nbformat": 4
 },
 "nbformat": 4,
 "nbformat_minor": 2
}