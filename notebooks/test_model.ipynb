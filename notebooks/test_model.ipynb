{
 "cells": [
  {
   "cell_type": "code",
   "execution_count": 1,
   "metadata": {},
   "outputs": [],
   "source": [
    "import os\n",
    "from random import shuffle\n",
    "\n",
    "import tensorflow as tf\n",
    "\n",
    "from src.models.models import BispectUnetLight, UnetLight\n",
    "from src.data.drive import (get_dataset, tf_random_crop, tf_random_rotate,\n",
    "                            tf_random_flip)\n",
    "from src.models.loss import dice_coe_loss, dice_coe_metric\n",
    "\n",
    "os.environ[\"CUDA_VISIBLE_DEVICES\"] = \"0\""
   ]
  },
  {
   "cell_type": "code",
   "execution_count": 2,
   "metadata": {},
   "outputs": [],
   "source": [
    "image_ids = [i for i in range(21, 41)]\n",
    "shuffle(image_ids)\n",
    "image_ids_val = image_ids[:5]\n",
    "image_ids_train = image_ids[5:]\n",
    "\n",
    "ds_train = get_dataset(id_list=image_ids_train)\n",
    "ds_train = ds_train.cache().repeat(10).map(tf_random_rotate).map(\n",
    "    tf_random_flip).map(tf_random_crop).map(lambda x, y, z: (x, z)).batch(2)\n",
    "\n",
    "ds_val = get_dataset(id_list=image_ids_val)\n",
    "f = lambda x: tf.image.resize_with_crop_or_pad(x, 592, 592)\n",
    "ds_val = ds_val.map(lambda x, y, z: (f(x), f(z))).cache().batch(1)\n"
   ]
  },
  {
   "cell_type": "code",
   "execution_count": 11,
   "metadata": {},
   "outputs": [],
   "source": [
    "model = UnetLight(\n",
    "    output_channels=1,\n",
    "    # n_harmonics=4,\n",
    "    # radial_profile_type=\"disks\",\n",
    ")\n"
   ]
  },
  {
   "cell_type": "code",
   "execution_count": 12,
   "metadata": {},
   "outputs": [],
   "source": [
    "model.compile(\n",
    "    loss=[dice_coe_loss],\n",
    "    optimizer=tf.keras.optimizers.Adam(1e-3),\n",
    "    metrics=[dice_coe_metric, tf.keras.metrics.AUC()],\n",
    "    run_eagerly=False,\n",
    ")\n"
   ]
  },
  {
   "cell_type": "code",
   "execution_count": 13,
   "metadata": {},
   "outputs": [],
   "source": [
    "x, y= next(ds_train.as_numpy_iterator())"
   ]
  },
  {
   "cell_type": "code",
   "execution_count": 14,
   "metadata": {},
   "outputs": [],
   "source": [
    "y_pred = model(x)"
   ]
  },
  {
   "cell_type": "code",
   "execution_count": 15,
   "metadata": {},
   "outputs": [
    {
     "name": "stdout",
     "output_type": "stream",
     "text": [
      "Model: \"unet_light\"\n",
      "_________________________________________________________________\n",
      "Layer (type)                 Output Shape              Param #   \n",
      "=================================================================\n",
      "sequential_10 (Sequential)   (2, 256, 256, 16)         5280      \n",
      "_________________________________________________________________\n",
      "sequential_11 (Sequential)   (2, 128, 128, 32)         16000     \n",
      "_________________________________________________________________\n",
      "sequential_12 (Sequential)   (2, 64, 64, 64)           58304     \n",
      "_________________________________________________________________\n",
      "sequential_13 (Sequential)   (2, 32, 32, 128)          248320    \n",
      "_________________________________________________________________\n",
      "sequential_14 (Sequential)   (2, 16, 16, 256)          988160    \n",
      "_________________________________________________________________\n",
      "up_block_light (UpBlockLight multiple                  737664    \n",
      "_________________________________________________________________\n",
      "up_block_light_1 (UpBlockLig multiple                  184512    \n",
      "_________________________________________________________________\n",
      "up_block_light_2 (UpBlockLig multiple                  46176     \n",
      "_________________________________________________________________\n",
      "up_block_light_3 (UpBlockLig multiple                  11568     \n",
      "_________________________________________________________________\n",
      "sequential_19 (Sequential)   (2, 256, 256, 1)          17        \n",
      "=================================================================\n",
      "Total params: 2,296,001\n",
      "Trainable params: 2,292,161\n",
      "Non-trainable params: 3,840\n",
      "_________________________________________________________________\n"
     ]
    }
   ],
   "source": [
    "model.summary()"
   ]
  },
  {
   "cell_type": "code",
   "execution_count": null,
   "metadata": {},
   "outputs": [],
   "source": []
  }
 ],
 "metadata": {
  "interpreter": {
   "hash": "88c0ff2719174138dc7745eb4f73106ff7a64e8611d08c5f9e483d7cac656239"
  },
  "kernelspec": {
   "display_name": "Python 3.6.9 64-bit ('env': virtualenv)",
   "name": "python3"
  },
  "language_info": {
   "codemirror_mode": {
    "name": "ipython",
    "version": 3
   },
   "file_extension": ".py",
   "mimetype": "text/x-python",
   "name": "python",
   "nbconvert_exporter": "python",
   "pygments_lexer": "ipython3",
   "version": "3.6.9"
  },
  "orig_nbformat": 4
 },
 "nbformat": 4,
 "nbformat_minor": 2
}
