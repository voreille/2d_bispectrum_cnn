{
 "cells": [
  {
   "cell_type": "code",
   "execution_count": null,
   "metadata": {},
   "outputs": [],
   "source": [
    "import os\n",
    "from random import shuffle\n",
    "import json\n",
    "\n",
    "import tensorflow as tf\n",
    "import matplotlib.pyplot as plt\n",
    "\n",
    "from src.models.monuseg.light_models import get_model\n",
    "from src.data.monuseg.tf_data import get_dataset, tf_random_crop\n",
    "from src.models.loss import dice_coe_loss, dice_coe_metric\n",
    "\n",
    "os.environ[\"CUDA_VISIBLE_DEVICES\"] = \"0\"\n",
    "\n",
    "path_indices = \"/home/valentin/python_wkspce/2d_bispectrum_cnn/data/indices/monuseg.json\"\n",
    "split = 0"
   ]
  },
  {
   "cell_type": "code",
   "execution_count": null,
   "metadata": {},
   "outputs": [],
   "source": [
    "w_fg = 1.9\n",
    "w_border = 5.0\n",
    "w_bg = 0.44\n",
    "def loss(y_true, y_pred):\n",
    "    l = tf.keras.losses.categorical_crossentropy(y_true, y_pred)\n",
    "    w = (y_true[..., 0] * w_fg + y_true[..., 1] * w_border +\n",
    "         y_true[..., 2] * w_bg)\n",
    "    return tf.reduce_mean(w * l, axis=(1, 2))"
   ]
  },
  {
   "cell_type": "code",
   "execution_count": null,
   "metadata": {},
   "outputs": [],
   "source": [
    "with open(path_indices, \"r\") as f:\n",
    "    indices_list = json.load(f)\n",
    "\n",
    "ds_train = get_dataset(id_list=indices_list[split][\"train\"]).take(1)\n",
    "ds_train = ds_train.cache().repeat(15)\n",
    "ds_train = ds_train.map(lambda image, seg: tf_random_crop(\n",
    "    image, seg, rotation_angle=\"right-angle\")).batch(4)\n",
    "\n",
    "ds_val = get_dataset(id_list=indices_list[split][\"val\"])\n",
    "ds_val = ds_val.cache().batch(1)\n",
    "\n",
    "ds_val_instance = get_dataset(id_list=indices_list[split][\"val\"],\n",
    "                              instance=True)\n",
    "ds_val_instance = ds_val_instance.cache().batch(1)\n",
    "\n",
    "ds_test = get_dataset(id_list=indices_list[split][\"test\"], instance=True)\n",
    "ds_test = ds_test.cache().batch(1)\n"
   ]
  },
  {
   "cell_type": "code",
   "execution_count": null,
   "metadata": {},
   "outputs": [],
   "source": [
    "model = get_model(\n",
    "    model_name=\"BispectUnetLight\",\n",
    "    output_channels=3,\n",
    "    n_harmonics=3,\n",
    "    n_feature_maps=[12, 24, 48],\n",
    "    radial_profile_type=\"disks\",\n",
    ")\n"
   ]
  },
  {
   "cell_type": "code",
   "execution_count": null,
   "metadata": {},
   "outputs": [],
   "source": [
    "x, y= next(ds_train.as_numpy_iterator())"
   ]
  },
  {
   "cell_type": "code",
   "execution_count": null,
   "metadata": {},
   "outputs": [],
   "source": [
    "y_pred = model(x)"
   ]
  },
  {
   "cell_type": "code",
   "execution_count": null,
   "metadata": {},
   "outputs": [],
   "source": [
    "model.summary()"
   ]
  },
  {
   "cell_type": "code",
   "execution_count": null,
   "metadata": {},
   "outputs": [],
   "source": [
    "unet = get_model(\n",
    "    model_name=\"UnetLight\",\n",
    "    output_channels=3,\n",
    "    n_feature_maps=[8, 16, 32],\n",
    ")\n"
   ]
  },
  {
   "cell_type": "code",
   "execution_count": null,
   "metadata": {},
   "outputs": [],
   "source": [
    "y_pred = unet(x)"
   ]
  },
  {
   "cell_type": "code",
   "execution_count": null,
   "metadata": {},
   "outputs": [],
   "source": [
    "unet.summary()"
   ]
  },
  {
   "cell_type": "code",
   "execution_count": null,
   "metadata": {},
   "outputs": [],
   "source": []
  }
 ],
 "metadata": {
  "interpreter": {
   "hash": "88c0ff2719174138dc7745eb4f73106ff7a64e8611d08c5f9e483d7cac656239"
  },
  "kernelspec": {
   "display_name": "Python 3.6.9 64-bit ('env': virtualenv)",
   "name": "python3"
  },
  "language_info": {
   "codemirror_mode": {
    "name": "ipython",
    "version": 3
   },
   "file_extension": ".py",
   "mimetype": "text/x-python",
   "name": "python",
   "nbconvert_exporter": "python",
   "pygments_lexer": "ipython3",
   "version": "3.6.9"
  },
  "orig_nbformat": 4
 },
 "nbformat": 4,
 "nbformat_minor": 2
}
