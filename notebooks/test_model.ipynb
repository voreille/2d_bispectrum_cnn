{
 "cells": [
  {
   "cell_type": "code",
   "execution_count": 1,
   "source": [
    "from random import shuffle\n",
    "\n",
    "import tensorflow as tf\n",
    "\n",
    "from src.models.models import BispectUnetLight, UnetLight\n",
    "from src.data.drive import (get_dataset, tf_random_crop, tf_random_rotate,\n",
    "                            tf_random_flip)\n",
    "from src.models.loss import dice_coe_loss, dice_coe_metric"
   ],
   "outputs": [],
   "metadata": {}
  },
  {
   "cell_type": "code",
   "execution_count": 2,
   "source": [
    "image_ids = [i for i in range(21, 41)]\n",
    "shuffle(image_ids)\n",
    "image_ids_val = image_ids[:5]\n",
    "image_ids_train = image_ids[5:]\n",
    "\n",
    "ds_train = get_dataset(id_list=image_ids_train)\n",
    "ds_train = ds_train.cache().repeat(10).map(tf_random_rotate).map(\n",
    "    tf_random_flip).map(tf_random_crop).map(lambda x, y, z: (x, z)).batch(2)\n",
    "\n",
    "ds_val = get_dataset(id_list=image_ids_val)\n",
    "f = lambda x: tf.image.resize_with_crop_or_pad(x, 592, 592)\n",
    "ds_val = ds_val.map(lambda x, y, z: (f(x), f(z))).cache().batch(1)\n"
   ],
   "outputs": [],
   "metadata": {}
  },
  {
   "cell_type": "code",
   "execution_count": 10,
   "source": [
    "model = BispectUnetLight(\n",
    "    output_channels=1,\n",
    "    n_harmonics=4,\n",
    "    # radial_profile_type=\"disks\",\n",
    ")\n"
   ],
   "outputs": [],
   "metadata": {}
  },
  {
   "cell_type": "code",
   "execution_count": 11,
   "source": [
    "model.compile(\n",
    "    loss=[dice_coe_loss],\n",
    "    optimizer=tf.keras.optimizers.Adam(1e-3),\n",
    "    metrics=[dice_coe_metric, tf.keras.metrics.AUC()],\n",
    "    run_eagerly=True,\n",
    ")\n"
   ],
   "outputs": [],
   "metadata": {}
  },
  {
   "cell_type": "code",
   "execution_count": 12,
   "source": [
    "x, y= next(ds_train.as_numpy_iterator())"
   ],
   "outputs": [],
   "metadata": {}
  },
  {
   "cell_type": "code",
   "execution_count": 13,
   "source": [
    "y_pred = model(x)"
   ],
   "outputs": [],
   "metadata": {}
  },
  {
   "cell_type": "code",
   "execution_count": 14,
   "source": [
    "model.summary()"
   ],
   "outputs": [
    {
     "output_type": "stream",
     "name": "stdout",
     "text": [
      "Model: \"bispect_unet_light_1\"\n",
      "_________________________________________________________________\n",
      "Layer (type)                 Output Shape              Param #   \n",
      "=================================================================\n",
      "sequential_10 (Sequential)   (2, 256, 256, 16)         9632      \n",
      "_________________________________________________________________\n",
      "sequential_11 (Sequential)   (2, 128, 128, 32)         32896     \n",
      "_________________________________________________________________\n",
      "sequential_12 (Sequential)   (2, 64, 64, 64)           124864    \n",
      "_________________________________________________________________\n",
      "sequential_13 (Sequential)   (2, 32, 32, 128)          512512    \n",
      "_________________________________________________________________\n",
      "sequential_14 (Sequential)   (2, 16, 16, 256)          2040832   \n",
      "_________________________________________________________________\n",
      "up_block_4 (UpBlock)         multiple                  737664    \n",
      "_________________________________________________________________\n",
      "up_block_5 (UpBlock)         multiple                  184512    \n",
      "_________________________________________________________________\n",
      "up_block_6 (UpBlock)         multiple                  46176     \n",
      "_________________________________________________________________\n",
      "up_block_7 (UpBlock)         multiple                  11568     \n",
      "_________________________________________________________________\n",
      "sequential_19 (Sequential)   (2, 256, 256, 1)          17        \n",
      "=================================================================\n",
      "Total params: 3,700,673\n",
      "Trainable params: 3,696,833\n",
      "Non-trainable params: 3,840\n",
      "_________________________________________________________________\n"
     ]
    }
   ],
   "metadata": {}
  },
  {
   "cell_type": "code",
   "execution_count": null,
   "source": [],
   "outputs": [],
   "metadata": {}
  }
 ],
 "metadata": {
  "orig_nbformat": 4,
  "language_info": {
   "name": "python",
   "version": "3.6.9",
   "mimetype": "text/x-python",
   "codemirror_mode": {
    "name": "ipython",
    "version": 3
   },
   "pygments_lexer": "ipython3",
   "nbconvert_exporter": "python",
   "file_extension": ".py"
  },
  "kernelspec": {
   "name": "python3",
   "display_name": "Python 3.6.9 64-bit ('env': virtualenv)"
  },
  "interpreter": {
   "hash": "3532526402f3e453f50b30fb761361cb4afb692af01527e4a6be9a9bc9e3569d"
  }
 },
 "nbformat": 4,
 "nbformat_minor": 2
}