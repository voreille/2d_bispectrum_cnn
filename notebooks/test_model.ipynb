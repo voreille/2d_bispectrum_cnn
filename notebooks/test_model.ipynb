{
 "cells": [
  {
   "cell_type": "code",
   "execution_count": null,
   "metadata": {},
   "outputs": [],
   "source": [
    "import os\n",
    "from random import shuffle\n",
    "import json\n",
    "from itertools import product\n",
    "\n",
    "import numpy as np\n",
    "import tensorflow as tf\n",
    "import matplotlib.pyplot as plt\n",
    "from scipy.ndimage import rotate\n",
    "\n",
    "from src.models.monuseg.models import get_model\n",
    "from src.data.monuseg.tf_data import get_dataset, tf_random_crop\n",
    "from src.models.loss import dice_coe_loss, dice_coe_metric\n",
    "from src.models.monuseg.evaluation import post_processing\n",
    "\n",
    "os.environ[\"CUDA_VISIBLE_DEVICES\"] = \"1\"\n",
    "\n",
    "path_indices = \"/home/valentin/python_wkspce/2d_bispectrum_cnn/data/indices/monuseg.json\"\n",
    "split = 0"
   ]
  },
  {
   "cell_type": "code",
   "execution_count": null,
   "metadata": {},
   "outputs": [],
   "source": [
    "w_fg = 1.9\n",
    "w_border = 5.0\n",
    "w_bg = 0.44\n",
    "\n",
    "\n",
    "def loss(y_true, y_pred):\n",
    "    l = tf.keras.losses.categorical_crossentropy(y_true, y_pred)\n",
    "    w = (y_true[..., 0] * w_fg + y_true[..., 1] * w_border +\n",
    "         y_true[..., 2] * w_bg)\n",
    "    return tf.reduce_mean(w * l, axis=(1, 2))"
   ]
  },
  {
   "cell_type": "code",
   "execution_count": null,
   "metadata": {},
   "outputs": [],
   "source": [
    "with open(path_indices, \"r\") as f:\n",
    "    indices_list = json.load(f)\n",
    "\n",
    "ds_train = get_dataset(id_list=indices_list[split][\"train\"]).take(1)\n",
    "ds_train = ds_train.cache().repeat(15)\n",
    "f1 = lambda image, seg: tf_random_crop(\n",
    "    image, seg, rotation_angle=\"right-angle\")\n",
    "f2 = lambda image, seg: (\n",
    "    tf.image.random_brightness(image, max_delta=0.2),\n",
    "    seg,\n",
    ")\n",
    "ds_train = ds_train.map(f1).map(f2).batch(4)\n",
    "\n",
    "ds_val = get_dataset(id_list=indices_list[split][\"val\"])\n",
    "ds_val = ds_val.cache().batch(1)\n",
    "\n",
    "ds_val_instance = get_dataset(id_list=indices_list[split][\"val\"],\n",
    "                              instance=True)\n",
    "ds_val_instance = ds_val_instance.cache().batch(1)\n",
    "\n",
    "ds_test = get_dataset(id_list=indices_list[split][\"test\"], instance=True)\n",
    "ds_test = ds_test.cache().batch(1)\n"
   ]
  },
  {
   "cell_type": "code",
   "execution_count": null,
   "metadata": {},
   "outputs": [],
   "source": [
    "images, segs = next(ds_test.as_numpy_iterator())\n",
    "plt.imshow(images[0,...])"
   ]
  },
  {
   "cell_type": "code",
   "execution_count": null,
   "metadata": {},
   "outputs": [],
   "source": [
    "def rotate_batch(images, angle=90):\n",
    "    output = np.zeros_like(images)\n",
    "    for n in range(images.shape[0]):\n",
    "        output[n, ...] = rotate(images[n, ...], angle=angle, reshape=False)\n",
    "    return output\n"
   ]
  },
  {
   "cell_type": "code",
   "execution_count": null,
   "metadata": {},
   "outputs": [],
   "source": [
    "model = get_model(\n",
    "    model_name=\"BispectUnet\",\n",
    "    output_channels=3,\n",
    "    n_harmonics=4,\n",
    "    n_feature_maps=[8, 16, 32],\n",
    "    radial_profile_type=\"disks\",\n",
    ")\n"
   ]
  },
  {
   "cell_type": "code",
   "execution_count": null,
   "metadata": {},
   "outputs": [],
   "source": [
    "x, y = next(ds_train.as_numpy_iterator())\n"
   ]
  },
  {
   "cell_type": "code",
   "execution_count": null,
   "metadata": {},
   "outputs": [],
   "source": [
    "y_pred = model(x)"
   ]
  },
  {
   "cell_type": "code",
   "execution_count": null,
   "metadata": {},
   "outputs": [],
   "source": [
    "model.summary()"
   ]
  },
  {
   "cell_type": "code",
   "execution_count": null,
   "metadata": {},
   "outputs": [],
   "source": [
    "model.load_weights(\n",
    "    \"/home/valentin/python_wkspce/2d_bispectrum_cnn/models/MoNuSeg/BispectUnet__rotation_True__nh_4__n_train_-1__psize_60x60__20211212-222233/weights/split_0/final\"\n",
    ")\n"
   ]
  },
  {
   "cell_type": "code",
   "execution_count": null,
   "metadata": {},
   "outputs": [],
   "source": [
    "x_rotated = rotate_batch(x, angle=90)"
   ]
  },
  {
   "cell_type": "code",
   "execution_count": null,
   "metadata": {},
   "outputs": [],
   "source": [
    "plt.figure(figsize=(19, 19))\n",
    "plt.subplot(221)\n",
    "plt.imshow(x[0, ...])\n",
    "plt.subplot(222)\n",
    "plt.imshow(x_rotated[0, ...])\n",
    "plt.subplot(223)\n",
    "plt.imshow((model(x))[0, :, :, :])\n",
    "plt.subplot(224)\n",
    "plt.imshow((model(x_rotated))[0, :, :, :])\n"
   ]
  },
  {
   "cell_type": "code",
   "execution_count": null,
   "metadata": {},
   "outputs": [],
   "source": [
    "np.min(model(x))"
   ]
  },
  {
   "cell_type": "code",
   "execution_count": null,
   "metadata": {},
   "outputs": [],
   "source": [
    "y_diff = model(x) - rotate_batch(model(x_rotated), angle=-90)"
   ]
  },
  {
   "cell_type": "code",
   "execution_count": null,
   "metadata": {},
   "outputs": [],
   "source": [
    "plt.imshow(y_diff[0,:,:,1])\n",
    "plt.colorbar()"
   ]
  },
  {
   "cell_type": "code",
   "execution_count": null,
   "metadata": {},
   "outputs": [],
   "source": [
    "unet = get_model(\n",
    "    model_name=\"Unet\",\n",
    "    output_channels=3,\n",
    "    n_feature_maps=[11, 22, 44],\n",
    ")\n"
   ]
  },
  {
   "cell_type": "code",
   "execution_count": null,
   "metadata": {},
   "outputs": [],
   "source": [
    "unet.summary()"
   ]
  },
  {
   "cell_type": "code",
   "execution_count": null,
   "metadata": {},
   "outputs": [],
   "source": [
    "y_diff = unet(x) - rotate_batch(unet(x_rotated), angle=-90)\n",
    "plt.imshow(y_diff[0, ..., 0])\n",
    "plt.colorbar()"
   ]
  },
  {
   "cell_type": "code",
   "execution_count": null,
   "metadata": {},
   "outputs": [],
   "source": [
    "unet.load_weights(\n",
    "    \"/home/valentin/python_wkspce/2d_bispectrum_cnn/models/MoNuSeg/Unet__rotation_True__nh_0__n_train_-1__psize_60x60__20211130-080306/weights/split_2/final\"\n",
    ")\n"
   ]
  },
  {
   "cell_type": "code",
   "execution_count": null,
   "metadata": {},
   "outputs": [],
   "source": [
    "y_diff = unet(x) - rotate_batch(unet(x_rotated), angle=-90)\n",
    "plt.imshow(y_diff[0, ..., 0])\n",
    "plt.colorbar()"
   ]
  },
  {
   "cell_type": "code",
   "execution_count": null,
   "metadata": {},
   "outputs": [],
   "source": [
    "f = model.down_block_1.get_layer(index=0).conv_ch.filters.numpy()\n",
    "f.shape"
   ]
  },
  {
   "cell_type": "code",
   "execution_count": null,
   "metadata": {},
   "outputs": [],
   "source": [
    "plt.subplot(211)\n",
    "plt.imshow(radial_profile[:, :, 0])\n",
    "plt.subplot(212)\n",
    "plt.imshow(radial_profile[:, :, 1])\n"
   ]
  },
  {
   "cell_type": "code",
   "execution_count": null,
   "metadata": {},
   "outputs": [],
   "source": [
    "model.down_block_1.get_layer(index=0).indices"
   ]
  },
  {
   "cell_type": "code",
   "execution_count": null,
   "metadata": {},
   "outputs": [],
   "source": [
    "model_2 = get_model(\n",
    "    model_name=\"BispectUnet\",\n",
    "    output_channels=3,\n",
    "    n_harmonics=5,\n",
    "    n_feature_maps=[10, 20, 40],\n",
    "    radial_profile_type=\"disks\",\n",
    ")\n"
   ]
  },
  {
   "cell_type": "code",
   "execution_count": null,
   "metadata": {},
   "outputs": [],
   "source": [
    "y_diff = model_2(x) - rotate_batch(model_2(x_rotated), angle=-90)\n",
    "plt.imshow(y_diff[0, ..., 1])\n",
    "plt.colorbar()"
   ]
  },
  {
   "cell_type": "markdown",
   "metadata": {},
   "source": []
  },
  {
   "cell_type": "code",
   "execution_count": null,
   "metadata": {},
   "outputs": [],
   "source": [
    "indices = model_2.down_block_1.get_layer(index=0).indices"
   ]
  },
  {
   "cell_type": "code",
   "execution_count": null,
   "metadata": {},
   "outputs": [],
   "source": [
    "len(indices)"
   ]
  },
  {
   "cell_type": "code",
   "execution_count": null,
   "metadata": {},
   "outputs": [],
   "source": [
    "indices"
   ]
  },
  {
   "cell_type": "code",
   "execution_count": null,
   "metadata": {},
   "outputs": [],
   "source": []
  }
 ],
 "metadata": {
  "interpreter": {
   "hash": "88c0ff2719174138dc7745eb4f73106ff7a64e8611d08c5f9e483d7cac656239"
  },
  "kernelspec": {
   "display_name": "Python 3.6.9 64-bit ('env': virtualenv)",
   "name": "python3"
  },
  "language_info": {
   "codemirror_mode": {
    "name": "ipython",
    "version": 3
   },
   "file_extension": ".py",
   "mimetype": "text/x-python",
   "name": "python",
   "nbconvert_exporter": "python",
   "pygments_lexer": "ipython3",
   "version": "3.6.9"
  },
  "orig_nbformat": 4
 },
 "nbformat": 4,
 "nbformat_minor": 2
}
