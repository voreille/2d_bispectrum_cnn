{
 "cells": [
  {
   "cell_type": "code",
   "execution_count": null,
   "source": [
    "from itertools import product\n",
    "\n",
    "import tensorflow as tf\n",
    "import numpy as np\n",
    "import matplotlib.pyplot as plt\n",
    "from scipy.ndimage import rotate\n",
    "\n",
    "import tensorflow_datasets as tfds\n",
    "\n",
    "from src.models.layers import ECHConv2D, BCHConv2D, conv2d_transpose\n",
    "\n",
    "np.set_printoptions(precision=2, linewidth=150)\n"
   ],
   "outputs": [],
   "metadata": {}
  },
  {
   "cell_type": "code",
   "execution_count": null,
   "source": [
    "tf.TensorShape([None, 256])"
   ],
   "outputs": [],
   "metadata": {}
  },
  {
   "cell_type": "code",
   "execution_count": null,
   "source": [
    "IMAGE_SHAPE = (128, 128)\n"
   ],
   "outputs": [],
   "metadata": {}
  },
  {
   "cell_type": "code",
   "execution_count": null,
   "source": [
    "dataset, info = tfds.load('oxford_iiit_pet:3.*.*', with_info=True)\n"
   ],
   "outputs": [],
   "metadata": {}
  },
  {
   "cell_type": "code",
   "execution_count": null,
   "source": [
    "def normalize(input_image, input_mask):\n",
    "    input_image = tf.cast(input_image, tf.float32) / 255.0\n",
    "    input_mask -= 1\n",
    "    return input_image, input_mask\n",
    "\n",
    "\n",
    "@tf.function\n",
    "def load_image(datapoint):\n",
    "    input_image = tf.image.resize(datapoint['image'], IMAGE_SHAPE)\n",
    "    input_mask = tf.image.resize(datapoint['segmentation_mask'], IMAGE_SHAPE)\n",
    "\n",
    "    input_image, input_mask = normalize(input_image, input_mask)\n",
    "\n",
    "    return input_image, input_mask\n",
    "\n",
    "\n",
    "def random_rotate_image(image, label):\n",
    "    # rotation = np.random.uniform(-180,180)\n",
    "    rotation =45 \n",
    "    image = rotate(image, rotation, reshape=False, order=3)\n",
    "    label = rotate(label, rotation, reshape=False, order=1)\n",
    "    return image, label, rotation\n",
    "\n",
    "\n",
    "def tf_random_rotate_image(image, label):\n",
    "    im_shape = image.shape\n",
    "    label_shape = label.shape\n",
    "    [\n",
    "        image, label, rotation\n",
    "    ] = tf.py_function(\n",
    "        random_rotate_image,\n",
    "        [image, label],\n",
    "        [tf.float32, tf.float32, tf.float32],\n",
    "    )\n",
    "    image.set_shape(im_shape)\n",
    "    label.set_shape(label_shape)\n",
    "    return image, label, rotation\n"
   ],
   "outputs": [],
   "metadata": {}
  },
  {
   "cell_type": "code",
   "execution_count": null,
   "source": [
    "train = dataset['train'].map(load_image, num_parallel_calls=tf.data.AUTOTUNE)\n",
    "test = dataset['test'].map(load_image)\n",
    "\n",
    "train_rotated = train.map(tf_random_rotate_image, num_parallel_calls=tf.data.AUTOTUNE)\n",
    "test_rotated = test.map(tf_random_rotate_image)"
   ],
   "outputs": [],
   "metadata": {}
  },
  {
   "cell_type": "code",
   "execution_count": null,
   "source": [
    "train_dataset = train.batch(64)\n",
    "test_dataset = test.batch(64)\n",
    "\n",
    "train_dataset_rotated = train_rotated.batch(64)\n",
    "test_dataset_rotated = test_rotated.batch(64)"
   ],
   "outputs": [],
   "metadata": {}
  },
  {
   "cell_type": "code",
   "execution_count": null,
   "source": [
    "sample_batch, sample_batch_mask = next(train_dataset.as_numpy_iterator())\n",
    "sample_batch_rotated, sample_batch_mask_rotated, rotation = next(train_dataset_rotated.as_numpy_iterator())"
   ],
   "outputs": [],
   "metadata": {}
  },
  {
   "cell_type": "code",
   "execution_count": null,
   "source": [
    "rotation"
   ],
   "outputs": [],
   "metadata": {}
  },
  {
   "cell_type": "code",
   "execution_count": null,
   "source": [
    "plt.subplot(121)\n",
    "plt.imshow(sample_batch[3,:,:,:])\n",
    "plt.subplot(122)\n",
    "plt.imshow(sample_batch_mask[3,:,:,:])\n",
    "plt.colorbar()"
   ],
   "outputs": [],
   "metadata": {}
  },
  {
   "cell_type": "code",
   "execution_count": null,
   "source": [
    "plt.subplot(121)\n",
    "plt.imshow(sample_batch_rotated[3,:,:,:])\n",
    "plt.subplot(122)\n",
    "plt.imshow(sample_batch_mask_rotated[3,:,:,:])"
   ],
   "outputs": [],
   "metadata": {}
  },
  {
   "cell_type": "code",
   "execution_count": null,
   "source": [
    "np.max(sample_batch_rotated)"
   ],
   "outputs": [],
   "metadata": {}
  },
  {
   "cell_type": "code",
   "execution_count": null,
   "source": [
    "# layer = BCHConv2DComplex(1, 7, initializer=tf.keras.initializers.Constant(1.0), radial_profile_type=\"complete_radial\")\n",
    "layer = BCHConv2D(\n",
    "    1,\n",
    "    3,\n",
    "    strides=1,\n",
    "    initializer=tf.keras.initializers.Constant(1.0),\n",
    "    proj_initializer=tf.keras.initializers.Constant(1.0),\n",
    "    is_transpose=False,\n",
    "    project=False,\n",
    "    n_harmonics=2,\n",
    "    radial_profile_type=\"disks\"\n",
    ")\n"
   ],
   "outputs": [],
   "metadata": {}
  },
  {
   "cell_type": "code",
   "execution_count": null,
   "source": [
    "atoms0, atoms = layer.conv_ch.atoms"
   ],
   "outputs": [],
   "metadata": {}
  },
  {
   "cell_type": "code",
   "execution_count": null,
   "source": [
    "atoms.shape"
   ],
   "outputs": [],
   "metadata": {}
  },
  {
   "cell_type": "code",
   "execution_count": null,
   "source": [
    "plt.imshow(np.real(np.sum(atoms, axis=-1)[:,:,0,0,0]))\n",
    "plt.colorbar()"
   ],
   "outputs": [],
   "metadata": {}
  },
  {
   "cell_type": "code",
   "execution_count": null,
   "source": [
    "layer.indices"
   ],
   "outputs": [],
   "metadata": {}
  },
  {
   "cell_type": "code",
   "execution_count": null,
   "source": [
    "y = layer(sample_batch)\n",
    "y_rotated = layer(sample_batch_rotated)"
   ],
   "outputs": [],
   "metadata": {}
  },
  {
   "cell_type": "code",
   "execution_count": null,
   "source": [
    "y.shape"
   ],
   "outputs": [],
   "metadata": {}
  },
  {
   "cell_type": "code",
   "execution_count": null,
   "source": [
    "radius = 256 / 2\n",
    "x_grid = np.arange(-radius, radius+1 , 1)\n",
    "x_coord, y_coord = np.meshgrid(x_grid, x_grid)\n",
    "r = np.sqrt(x_coord**2 + y_coord**2)\n",
    "mask = (r < radius-1)\n"
   ],
   "outputs": [],
   "metadata": {}
  },
  {
   "cell_type": "code",
   "execution_count": null,
   "source": [
    "b = 2\n",
    "c_out = 1\n",
    "f = np.real"
   ],
   "outputs": [],
   "metadata": {}
  },
  {
   "cell_type": "code",
   "execution_count": null,
   "source": [
    "plt.figure(figsize=(24, 4))\n",
    "plt.subplot(141)\n",
    "plt.imshow(f(y.numpy()[b, :, :, c_out]))# * mask)\n",
    "plt.colorbar()\n",
    "plt.subplot(142)\n",
    "plt.imshow(f(y_rotated.numpy()[b, :, :, c_out])) # * mask)\n",
    "plt.colorbar()\n",
    "plt.subplot(143)\n",
    "feature_map_rotated = rotate(f(y.numpy()[b, :, :, c_out]),\n",
    "                             rotation[b],\n",
    "                             order=3,\n",
    "                             reshape=False)\n",
    "y_diff = f(y_rotated.numpy()[b, :, :, c_out]) - feature_map_rotated\n",
    "plt.imshow(feature_map_rotated)# * mask)\n",
    "plt.colorbar()\n",
    "plt.subplot(144)\n",
    "plt.imshow(np.abs(f(y_diff)))# * mask))\n",
    "plt.colorbar()"
   ],
   "outputs": [],
   "metadata": {}
  },
  {
   "cell_type": "code",
   "execution_count": null,
   "source": [
    "indice = np.where(f(y_diff) == np.max(f(y_diff)))\n",
    "y_r = y_rotated.numpy()[b, :, :, c_out]\n",
    "y_r[indice]\n"
   ],
   "outputs": [],
   "metadata": {}
  },
  {
   "cell_type": "code",
   "execution_count": null,
   "source": [
    "feature_map_rotated[indice]"
   ],
   "outputs": [],
   "metadata": {}
  },
  {
   "cell_type": "code",
   "execution_count": null,
   "source": [
    "plt.imshow(sample_batch[b,...])"
   ],
   "outputs": [],
   "metadata": {}
  },
  {
   "cell_type": "code",
   "execution_count": null,
   "source": [
    "filters = np.squeeze(layer.conv_ch.filters.numpy())\n",
    "np.real(filters[:,:,0,2])\n",
    "\n"
   ],
   "outputs": [],
   "metadata": {}
  },
  {
   "cell_type": "code",
   "execution_count": null,
   "source": [
    "filters = np.array([[0,1,0], [1,0,1], [0,1,0]])\n",
    "filters = np.stack(3*[filters], axis=-1)\n",
    "filters = filters[..., np.newaxis]"
   ],
   "outputs": [],
   "metadata": {}
  },
  {
   "cell_type": "code",
   "execution_count": null,
   "source": [
    "filters = tf.constant(filters, dtype=tf.float32)"
   ],
   "outputs": [],
   "metadata": {}
  },
  {
   "cell_type": "code",
   "execution_count": null,
   "source": [
    "image = sample_batch[:4,...]"
   ],
   "outputs": [],
   "metadata": {}
  },
  {
   "cell_type": "code",
   "execution_count": null,
   "source": [
    "# output = tf.nn.conv2d_transpose(image, filters)\n",
    "conv_transpose = tf.keras.layers.Conv2DTranspose(1, 3, strides=2, padding=\"SAME\")"
   ],
   "outputs": [],
   "metadata": {}
  },
  {
   "cell_type": "code",
   "execution_count": null,
   "source": [
    "a,b,c,d = tf.shape(filters)"
   ],
   "outputs": [],
   "metadata": {}
  },
  {
   "cell_type": "code",
   "execution_count": null,
   "source": [
    "output_trans = conv2d_transpose(image, filters, 1).numpy()\n",
    "output = tf.nn.conv2d(image, filters, 1, \"SAME\").numpy()\n",
    "# output = conv_transpose(image)"
   ],
   "outputs": [],
   "metadata": {}
  },
  {
   "cell_type": "code",
   "execution_count": null,
   "source": [
    "output.shape"
   ],
   "outputs": [],
   "metadata": {}
  },
  {
   "cell_type": "code",
   "execution_count": null,
   "source": [
    "output_trans.shape"
   ],
   "outputs": [],
   "metadata": {}
  },
  {
   "cell_type": "code",
   "execution_count": null,
   "source": [
    "plt.figure(figsize=(24, 4))\n",
    "plt.subplot(131)\n",
    "plt.imshow(output_trans[0,...])\n",
    "plt.colorbar()\n",
    "plt.subplot(132)\n",
    "plt.imshow(output[0,...])\n",
    "plt.colorbar()\n",
    "plt.subplot(133)\n",
    "plt.imshow(np.abs(output-output_trans)[0,...])\n",
    "plt.colorbar()"
   ],
   "outputs": [],
   "metadata": {}
  },
  {
   "cell_type": "code",
   "execution_count": null,
   "source": [],
   "outputs": [],
   "metadata": {}
  }
 ],
 "metadata": {
  "orig_nbformat": 4,
  "language_info": {
   "name": "python",
   "version": "3.6.9",
   "mimetype": "text/x-python",
   "codemirror_mode": {
    "name": "ipython",
    "version": 3
   },
   "pygments_lexer": "ipython3",
   "nbconvert_exporter": "python",
   "file_extension": ".py"
  },
  "kernelspec": {
   "name": "python3",
   "display_name": "Python 3.6.9 64-bit ('env': virtualenv)"
  },
  "interpreter": {
   "hash": "3532526402f3e453f50b30fb761361cb4afb692af01527e4a6be9a9bc9e3569d"
  }
 },
 "nbformat": 4,
 "nbformat_minor": 2
}