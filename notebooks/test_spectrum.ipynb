{
 "cells": [
  {
   "cell_type": "code",
   "execution_count": 1,
   "source": [
    "from itertools import product\n",
    "\n",
    "import tensorflow as tf\n",
    "import numpy as np\n",
    "import matplotlib.pyplot as plt\n",
    "from scipy.ndimage import rotate\n",
    "\n",
    "from src.models.layers import ECHConv2D\n",
    "\n",
    "np.set_printoptions(precision=2, linewidth=150)\n"
   ],
   "outputs": [],
   "metadata": {}
  },
  {
   "cell_type": "code",
   "execution_count": 2,
   "source": [
    "def get_atoms(\n",
    "    kernel_profiles,\n",
    "    normalize=True,\n",
    "    n_harmonics=4,\n",
    "):\n",
    "    kernel_size, _, n_profiles = kernel_profiles.shape\n",
    "    radius = (kernel_size - 1) // 2\n",
    "    x_grid = np.arange(-radius, radius + 1, 1)\n",
    "    x, y = np.meshgrid(x_grid, x_grid)\n",
    "    theta = np.arctan2(y, x)\n",
    "    atoms = np.zeros(\n",
    "        (\n",
    "            kernel_size,\n",
    "            kernel_size,\n",
    "            n_harmonics,\n",
    "            n_profiles,\n",
    "        ),\n",
    "        dtype=np.csingle,\n",
    "    )\n",
    "    for k, i in product(range(n_harmonics), range(n_profiles)):\n",
    "        atoms[:, :, k, i] = kernel_profiles[:, :, i] * np.exp(1j * k * theta)\n",
    "\n",
    "    # atoms[:, :, 1:, 0] = 0\n",
    "\n",
    "    if normalize:\n",
    "        norm = np.sqrt(np.sum(np.conj(atoms) * atoms, axis=(0, 1)))\n",
    "        norm[norm == 0] = 1\n",
    "        atoms = atoms / norm\n",
    "\n",
    "    return atoms\n",
    "\n",
    "\n",
    "def compute_spectrum(\n",
    "    f,\n",
    "    kernel_profiles,\n",
    "    n_harmonics=4,\n",
    "):\n",
    "    atoms = get_atoms(\n",
    "        kernel_profiles=kernel_profiles,\n",
    "        normalize=True,\n",
    "        n_harmonics=n_harmonics,\n",
    "    )\n",
    "    spectrum = np.zeros((n_harmonics))\n",
    "    atoms_proj = np.sum(atoms, axis=-1)\n",
    "    for n in range(n_harmonics):\n",
    "        ch_proj = np.sum(f * np.conj(atoms_proj[..., n]))\n",
    "        spectrum[n] = np.sqrt(np.real(ch_proj * np.conj(ch_proj)))\n",
    "    return spectrum\n"
   ],
   "outputs": [],
   "metadata": {}
  },
  {
   "cell_type": "code",
   "execution_count": 3,
   "source": [
    "layer = ECHConv2D(1, 9, initializer=tf.keras.initializers.Constant(1.0))\n",
    "kernel_profiles = layer.conv_ch._compute_kernel_profiles()"
   ],
   "outputs": [],
   "metadata": {}
  },
  {
   "cell_type": "code",
   "execution_count": 4,
   "source": [
    "for k in range(12):\n",
    "    plt.subplot(3,4,k+1)\n",
    "    plt.imshow(kernel_profiles[:,:,k])"
   ],
   "outputs": [
    {
     "output_type": "display_data",
     "data": {
      "text/plain": [
       "<Figure size 432x288 with 12 Axes>"
      ],
      "image/png": "[encoded data removed]"
     },
     "metadata": {
      "needs_background": "light"
     }
    }
   ],
   "metadata": {}
  },
  {
   "cell_type": "code",
   "execution_count": 5,
   "source": [
    "x = np.random.uniform(size=(9,9)) \n",
    "x_rotated = rotate(x, 90, reshape=False)"
   ],
   "outputs": [],
   "metadata": {}
  },
  {
   "cell_type": "code",
   "execution_count": 6,
   "source": [
    "\n",
    "compute_spectrum(x,\n",
    "                 kernel_profiles,\n",
    "                 n_harmonics=8,\n",
    "                 )"
   ],
   "outputs": [
    {
     "output_type": "execute_result",
     "data": {
      "text/plain": [
       "array([12.29,  0.73,  0.56,  1.06,  0.8 ,  0.86,  1.08,  0.35])"
      ]
     },
     "metadata": {},
     "execution_count": 6
    }
   ],
   "metadata": {}
  },
  {
   "cell_type": "code",
   "execution_count": 7,
   "source": [
    "compute_spectrum(x_rotated,\n",
    "                 kernel_profiles,\n",
    "                 n_harmonics=8,\n",
    "                 )"
   ],
   "outputs": [
    {
     "output_type": "execute_result",
     "data": {
      "text/plain": [
       "array([12.29,  0.73,  0.56,  1.06,  0.8 ,  0.86,  1.08,  0.35])"
      ]
     },
     "metadata": {},
     "execution_count": 7
    }
   ],
   "metadata": {}
  },
  {
   "cell_type": "code",
   "execution_count": 8,
   "source": [
    "x_tot = np.stack([x, x_rotated], axis=0)[..., np.newaxis]\n",
    "y = layer(x_tot)"
   ],
   "outputs": [],
   "metadata": {}
  },
  {
   "cell_type": "code",
   "execution_count": 9,
   "source": [
    "y"
   ],
   "outputs": [
    {
     "output_type": "execute_result",
     "data": {
      "text/plain": [
       "<tf.Tensor: shape=(2, 1, 1, 4), dtype=float32, numpy=\n",
       "array([[[[12.59,  0.73,  0.56,  1.06]]],\n",
       "\n",
       "\n",
       "       [[[12.59,  0.73,  0.56,  1.06]]]], dtype=float32)>"
      ]
     },
     "metadata": {},
     "execution_count": 9
    }
   ],
   "metadata": {}
  },
  {
   "cell_type": "code",
   "execution_count": 10,
   "source": [
    "filters  = layer.conv_ch.filters\n",
    "filters = np.squeeze(filters)"
   ],
   "outputs": [],
   "metadata": {}
  },
  {
   "cell_type": "code",
   "execution_count": 13,
   "source": [
    "plt.imshow(np.real(filters[:,:, 2]))"
   ],
   "outputs": [
    {
     "output_type": "execute_result",
     "data": {
      "text/plain": [
       "<matplotlib.image.AxesImage at 0x7f6ed0062198>"
      ]
     },
     "metadata": {},
     "execution_count": 13
    },
    {
     "output_type": "display_data",
     "data": {
      "text/plain": [
       "<Figure size 432x288 with 1 Axes>"
      ],
      "image/png": "[encoded data removed]"
     },
     "metadata": {
      "needs_background": "light"
     }
    }
   ],
   "metadata": {}
  },
  {
   "cell_type": "code",
   "execution_count": null,
   "source": [],
   "outputs": [],
   "metadata": {}
  }
 ],
 "metadata": {
  "orig_nbformat": 4,
  "language_info": {
   "name": "python",
   "version": "3.6.9",
   "mimetype": "text/x-python",
   "codemirror_mode": {
    "name": "ipython",
    "version": 3
   },
   "pygments_lexer": "ipython3",
   "nbconvert_exporter": "python",
   "file_extension": ".py"
  },
  "kernelspec": {
   "name": "python3",
   "display_name": "Python 3.6.9 64-bit ('env': virtualenv)"
  },
  "interpreter": {
   "hash": "3532526402f3e453f50b30fb761361cb4afb692af01527e4a6be9a9bc9e3569d"
  }
 },
 "nbformat": 4,
 "nbformat_minor": 2
}